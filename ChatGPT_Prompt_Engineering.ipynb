{
  "nbformat": 4,
  "nbformat_minor": 0,
  "metadata": {
    "colab": {
      "provenance": [],
      "toc_visible": true
    },
    "kernelspec": {
      "name": "python3",
      "display_name": "Python 3"
    },
    "language_info": {
      "name": "python"
    }
  },
  "cells": [
    {
      "cell_type": "markdown",
      "source": [
        "#LLMs"
      ],
      "metadata": {
        "id": "pwWTQg6K8iVI"
      }
    },
    {
      "cell_type": "markdown",
      "source": [
        "***There are two types of LLMs***\n",
        "\n",
        "**Base LLMs**\n",
        "\n",
        "Predicts next word, based on training data.\n",
        "\n",
        "It might ive question in respond toquestion as it is being trained from large corpus wich may include list of quiz questions.\n",
        "*******\n",
        "**Instructions Tuned LLMs**\n",
        "\n",
        "It is trained to follow the instructions.\n",
        "\n",
        "It start with *Base LLMs*3\n",
        "\n",
        "Fine-tuned on instructions and good attempts at following those instructions.\n",
        "\n",
        "Further refined using a tecnique called RLHF(Reinforcement Learning with Human Feedback)\n",
        "\n",
        "They have helpful, honest & harmless responses. \n"
      ],
      "metadata": {
        "id": "L9t6uVey8plK"
      }
    },
    {
      "cell_type": "markdown",
      "source": [
        "*******\n",
        "**Principle of prompts:**\n",
        "\n",
        "\n",
        "1.   Write Clear and Specific Instructions\n",
        "\n",
        "\n",
        ">> clear not equals short\n",
        "\n",
        "\n",
        "2.   Give the model time to think\n",
        "*******\n",
        "\n",
        "**METHODS**\n",
        "1. **Write Clear and Specific Instructions**\n",
        "\n",
        "* Use delimiters to clearly indicate distinct parts of the input\n",
        "  - Delimiters can be anything like: ```, \"\"\", < >, `<tag> </tag>`, `:`\n",
        "*   Ask for a structured output\n",
        "  - JSON, HTML\n",
        "* Ask the model to check whether conditions are satisfied\n",
        "  -Check assumptions required todo task\n",
        "* \"Few-shot\" prompting\n",
        "  - Give successful examples of completing tasks then ask model to perform task.\n",
        "\n",
        "2.   **Give the model time to think**\n",
        "* Specify the steps required to complete a task \n",
        "  - Chain of thought\n",
        "*  Instruct the model to work out its own solution before rushing to a conclusion\n"
      ],
      "metadata": {
        "id": "edCI_e6pAgD7"
      }
    },
    {
      "cell_type": "markdown",
      "source": [
        "##Setting up OPENAI"
      ],
      "metadata": {
        "id": "UzZX6LD9bh6d"
      }
    },
    {
      "cell_type": "code",
      "source": [
        "!pip install openai"
      ],
      "metadata": {
        "id": "XGn0JUjCAfg1"
      },
      "execution_count": null,
      "outputs": []
    },
    {
      "cell_type": "code",
      "source": [
        "import openai\n",
        "import os"
      ],
      "metadata": {
        "id": "gjjloLL7BKIM"
      },
      "execution_count": null,
      "outputs": []
    },
    {
      "cell_type": "code",
      "source": [
        "openai.api_key = \"OPENAI-API-KEY\""
      ],
      "metadata": {
        "id": "qwhwBGDXBtYW"
      },
      "execution_count": null,
      "outputs": []
    },
    {
      "cell_type": "code",
      "source": [
        "def get_completion(prompt, model=\"gpt-3.5-turbo\"):\n",
        "    messages = [{\"role\": \"user\", \"content\": prompt}]\n",
        "    response = openai.ChatCompletion.create(\n",
        "        model=model,\n",
        "        messages=messages,\n",
        "        temperature=0, # this is the degree of randomness of the model's output\n",
        "    )\n",
        "    return response.choices[0].message[\"content\"]"
      ],
      "metadata": {
        "id": "lUNm_xRz8o9O"
      },
      "execution_count": null,
      "outputs": []
    },
    {
      "cell_type": "markdown",
      "source": [
        "# Principle of prompts:"
      ],
      "metadata": {
        "id": "X711uLk6bqVR"
      }
    },
    {
      "cell_type": "markdown",
      "source": [
        "## 1.Write Clear and Specific Instructions"
      ],
      "metadata": {
        "id": "IQOqr4n0cExd"
      }
    },
    {
      "cell_type": "markdown",
      "source": [
        "###Use delimiters to clearly indicate distinct parts of the input"
      ],
      "metadata": {
        "id": "GmNPww6EcObW"
      }
    },
    {
      "cell_type": "code",
      "source": [
        "#Using delimeter ''' ''' in this prompt\n",
        "text = f\"\"\"\n",
        "You should express what you want a model to do by providing instructions that are as clear and specific as you can possibly make them. \\ \n",
        "This will guide the model towards the desired output, \\ \n",
        "and reduce the chances of receiving irrelevant \\ \n",
        "or incorrect responses. Don't confuse writing a \\ \n",
        "clear prompt with writing a short prompt. \\ \n",
        "In many cases, longer prompts provide more clarity \\ \n",
        "and context for the model, which can lead to \\ \n",
        "more detailed and relevant outputs.\n",
        "\"\"\"\n",
        "prompt = f\"\"\"\n",
        "Summarize the text delimited by triple backticks \\ \n",
        "into a single sentence.\n",
        "```{text}```\n",
        "\"\"\"\n",
        "response = get_completion(prompt)\n",
        "print(response)"
      ],
      "metadata": {
        "id": "RoZ5e-VQ8oMq"
      },
      "execution_count": null,
      "outputs": []
    },
    {
      "cell_type": "markdown",
      "source": [
        "**Using Backdlash \\ increases readbility of developer. But it may affect the performance of the LLMs**"
      ],
      "metadata": {
        "id": "7RtHmtRIKT2l"
      }
    },
    {
      "cell_type": "markdown",
      "source": [
        "###Ask for a structured output"
      ],
      "metadata": {
        "id": "1_x_FsqScq5K"
      }
    },
    {
      "cell_type": "code",
      "source": [
        "#For this example using JSON \n",
        "prompt = f\"\"\"\n",
        "Generate a list of three made-up book titles along \\ \n",
        "with their authors and genres. \n",
        "Provide them in JSON format with the following keys: \n",
        "book_id, title, author, genre.\n",
        "\"\"\"\n",
        "response = get_completion(prompt)\n",
        "print(response)"
      ],
      "metadata": {
        "id": "yfcyt6Rm8hyH"
      },
      "execution_count": null,
      "outputs": []
    },
    {
      "cell_type": "markdown",
      "source": [
        "###Ask the model to check whether conditions are satisfied"
      ],
      "metadata": {
        "id": "qcDXI60Bc8QU"
      }
    },
    {
      "cell_type": "code",
      "source": [
        "#For this example considering sequence as condition\n",
        "text_1 = f\"\"\"\n",
        "Making a cup of tea is easy! First, you need to get some \\ \n",
        "water boiling. While that's happening, \\ \n",
        "grab a cup and put a tea bag in it. Once the water is \\ \n",
        "hot enough, just pour it over the tea bag. \\ \n",
        "Let it sit for a bit so the tea can steep. After a \\ \n",
        "few minutes, take out the tea bag. If you \\ \n",
        "like, you can add some sugar or milk to taste. \\ \n",
        "And that's it! You've got yourself a delicious \\ \n",
        "cup of tea to enjoy.\n",
        "\"\"\"\n",
        "prompt = f\"\"\"\n",
        "You will be provided with text delimited by triple quotes. \n",
        "If it contains a sequence of instructions, \\ \n",
        "re-write those instructions in the following format:\n",
        "\n",
        "Step 1 - ...\n",
        "Step 2 - …\n",
        "…\n",
        "Step N - …\n",
        "\n",
        "If the text does not contain a sequence of instructions, \\ \n",
        "then simply write \\\"No steps provided.\\\"\n",
        "\n",
        "\\\"\\\"\\\"{text_1}\\\"\\\"\\\"\n",
        "\"\"\"\n",
        "response = get_completion(prompt)\n",
        "print(\"Completion for Text 1:\")\n",
        "print(response)"
      ],
      "metadata": {
        "id": "6dbw0oKJBepx"
      },
      "execution_count": null,
      "outputs": []
    },
    {
      "cell_type": "code",
      "execution_count": null,
      "metadata": {
        "id": "Oybm1_v38DUV"
      },
      "outputs": [],
      "source": [
        "# In this example the text_2 does not follow any sequence\n",
        "text_2 = f\"\"\"\n",
        "The sun is shining brightly today, and the birds are \\\n",
        "singing. It's a beautiful day to go for a \\ \n",
        "walk in the park. The flowers are blooming, and the \\ \n",
        "trees are swaying gently in the breeze. People \\ \n",
        "are out and about, enjoying the lovely weather. \\ \n",
        "Some are having picnics, while others are playing \\ \n",
        "games or simply relaxing on the grass. It's a \\ \n",
        "perfect day to spend time outdoors and appreciate the \\ \n",
        "beauty of nature.\n",
        "\"\"\"\n",
        "prompt = f\"\"\"\n",
        "You will be provided with text delimited by triple quotes. \n",
        "If it contains a sequence of instructions, \\ \n",
        "re-write those instructions in the following format:\n",
        "\n",
        "Step 1 - ...\n",
        "Step 2 - …\n",
        "…\n",
        "Step N - …\n",
        "\n",
        "If the text does not contain a sequence of instructions, \\ \n",
        "then simply write \\\"No steps provided.\\\"\n",
        "\n",
        "\\\"\\\"\\\"{text_2}\\\"\\\"\\\"\n",
        "\"\"\"\n",
        "response = get_completion(prompt)\n",
        "print(\"Completion for Text 2:\")\n",
        "print(response)"
      ]
    },
    {
      "cell_type": "markdown",
      "source": [
        "###\"Few-shot\" prompting"
      ],
      "metadata": {
        "id": "FisO-5uIdaSh"
      }
    },
    {
      "cell_type": "code",
      "source": [
        "# Giving an example\n",
        "prompt = f\"\"\"\n",
        "Your task is to answer in a consistent style.\n",
        "\n",
        "<child>: Teach me about patience.\n",
        "\n",
        "<grandparent>: The river that carves the deepest valley flows from a modest spring; the grandest symphony originates from a single note; the most intricate tapestry begins with a solitary thread.\n",
        "\n",
        "<child>: Teach me about resilience.\n",
        "\"\"\"\n",
        "response = get_completion(prompt)\n",
        "print(response)"
      ],
      "metadata": {
        "id": "TlMZG5xfB1ew"
      },
      "execution_count": null,
      "outputs": []
    },
    {
      "cell_type": "markdown",
      "source": [
        "## 2.Give the model time to think"
      ],
      "metadata": {
        "id": "X-raM74Sdmgl"
      }
    },
    {
      "cell_type": "markdown",
      "source": [
        "###Chain of thought"
      ],
      "metadata": {
        "id": "T14oEEoqd2Cm"
      }
    },
    {
      "cell_type": "code",
      "source": [
        "prompt_2 = f\"\"\"\n",
        "Your task is to perform the following actions: \n",
        "1 - Summarize the following text delimited by \n",
        "  <> with 1 sentence.\n",
        "2 - Translate the summary into French.\n",
        "3 - List each name in the French summary.\n",
        "4 - Output a json object that contains the \n",
        "  following keys: french_summary, num_names.\n",
        "\n",
        "Use the following format:\n",
        "Text: <text to summarize>\n",
        "Summary: <summary>\n",
        "Translation: <summary translation>\n",
        "Names: <list of names in Italian summary>\n",
        "Output JSON: <json with summary and num_names>\n",
        "\n",
        "Text: <{text}>\n",
        "\"\"\"\n",
        "response = get_completion(prompt_2)\n",
        "print(\"\\nCompletion for prompt 2:\")\n",
        "print(response)"
      ],
      "metadata": {
        "id": "NVliw53MEmoL"
      },
      "execution_count": null,
      "outputs": []
    },
    {
      "cell_type": "markdown",
      "source": [
        "###Instruct the model to work out its own solution before rushing to a conclusion"
      ],
      "metadata": {
        "id": "Z9nMQx65d_WC"
      }
    },
    {
      "cell_type": "code",
      "source": [
        "prompt = f\"\"\"\n",
        "Determine if the student's solution is correct or not.\n",
        "\n",
        "Question:\n",
        "I'm building a solar power installation and I need help working out the financials. \n",
        "- Land costs $100 / square foot\n",
        "- I can buy solar panels for $250 / square foot\n",
        "- I negotiated a contract for maintenance that will cost me a flat $100k per year, and an additional $10 / square foot\n",
        "\n",
        "What is the total cost for the first year of operations \n",
        "as a function of the number of square feet.\n",
        "\n",
        "Student's Solution:\n",
        "Let x be the size of the installation in square feet.\n",
        "Costs:\n",
        "1. Land cost: 100x\n",
        "2. Solar panel cost: 250x\n",
        "3. Maintenance cost: 100,000 + 100x\n",
        "Total cost: 100x + 250x + 100,000 + 100x = 450x + 100,000\n",
        "\"\"\"\n",
        "response = get_completion(prompt)\n",
        "print(response)"
      ],
      "metadata": {
        "id": "wJdLt9z9Fin3"
      },
      "execution_count": null,
      "outputs": []
    },
    {
      "cell_type": "markdown",
      "source": [
        "******\n",
        "Note that the student's solution is actually not correct.\n",
        "\n",
        "As in the line Maintaince cost it should be : 100,000 + 10x\n",
        "\n",
        "We can fix this by instructing the model to work out its own solution first.\n",
        "******"
      ],
      "metadata": {
        "id": "2E4irHqSFm9o"
      }
    },
    {
      "cell_type": "code",
      "source": [
        "prompt = f\"\"\"\n",
        "Your task is to determine if the student's solution is correct or not.\n",
        "To solve the problem do the following:\n",
        "- First, work out your own solution to the problem. \n",
        "- Then compare your solution to the student's solution and evaluate if the student's solution is correct or not. \n",
        "Don't decide if the student's solution is correct until you have done the problem yourself.\n",
        "\n",
        "Use the following format:\n",
        "Question:\n",
        "```\n",
        "question here\n",
        "```\n",
        "Student's solution:\n",
        "```\n",
        "student's solution here\n",
        "```\n",
        "Actual solution:\n",
        "```\n",
        "steps to work out the solution and your solution here\n",
        "```\n",
        "Is the student's solution the same as actual solution just calculated:\n",
        "```\n",
        "yes or no\n",
        "```\n",
        "Student grade:\n",
        "```\n",
        "correct or incorrect\n",
        "```\n",
        "\n",
        "\n",
        "\n",
        "Question:                                                       \n",
        "```\n",
        "I'm building a solar power installation and I need help \n",
        "working out the financials. \n",
        "- Land costs $100 / square foot\n",
        "- I can buy solar panels for $250 / square foot\n",
        "- I negotiated a contract for maintenance that will cost me a flat $100k per year, and an additional $10 / square foot\n",
        "\n",
        "What is the total cost for the first year of operations as a function of the number of square feet.\n",
        "``` \n",
        "Student's solution:\n",
        "```\n",
        "Let x be the size of the installation in square feet.\n",
        "Costs:\n",
        "1. Land cost: 100x\n",
        "2. Solar panel cost: 250x\n",
        "3. Maintenance cost: 100,000 + 100x\n",
        "Total cost: 100x + 250x + 100,000 + 100x = 450x + 100,000\n",
        "```\n",
        "Actual solution:\n",
        "\"\"\"\n",
        "response = get_completion(prompt)\n",
        "print(response)"
      ],
      "metadata": {
        "id": "jdumpmwSFmSf"
      },
      "execution_count": null,
      "outputs": []
    },
    {
      "cell_type": "markdown",
      "source": [
        "## Model Limitation"
      ],
      "metadata": {
        "id": "QCZ2mO5HHYpN"
      }
    },
    {
      "cell_type": "markdown",
      "source": [
        "\n",
        "\n",
        "*   It does not memorize the knowledege which it has seen.\n",
        "*   It does not knows its boundary of its knowledge.\n",
        "  - Hallucinations: Make statements that sound plausible but are not true.\n",
        "******\n",
        "**Reduce Hallucinations**: \n",
        "\n",
        "\n",
        "*   First find the relevent information\n",
        "*   Answer the question based on relevent information\n",
        "\n",
        "\n",
        "\n"
      ],
      "metadata": {
        "id": "CC07Ju8PHfXH"
      }
    },
    {
      "cell_type": "markdown",
      "source": [
        "#ITERATIVE"
      ],
      "metadata": {
        "id": "LOKScKlFecy-"
      }
    },
    {
      "cell_type": "markdown",
      "source": [
        "How to iteratively develop a prompt"
      ],
      "metadata": {
        "id": "BT4Y1wCWHeXh"
      }
    },
    {
      "cell_type": "markdown",
      "source": [
        "![Iterative_Promt.PNG](data:image/png;base64,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)"
      ],
      "metadata": {
        "id": "nAXUkwoML_PU"
      }
    },
    {
      "cell_type": "markdown",
      "source": [
        "**PROMPT GUIDELINES**\n",
        "\n",
        "\n",
        "*   Be Clear and Specific\n",
        "*   Analyze why result does not give desired output.\n",
        "*   Refine the idea and the prompt\n",
        "*   Repeat \n",
        "\n"
      ],
      "metadata": {
        "id": "dbiNR2ApNf16"
      }
    },
    {
      "cell_type": "markdown",
      "source": [
        "## Example"
      ],
      "metadata": {
        "id": "-W0X2WDVLMSd"
      }
    },
    {
      "cell_type": "markdown",
      "source": [
        "###Generate a marketing product description from a product fact sheet"
      ],
      "metadata": {
        "id": "2W3AWV5jPDFc"
      }
    },
    {
      "cell_type": "code",
      "source": [
        "fact_sheet_chair = \"\"\"\n",
        "OVERVIEW\n",
        "- Part of a beautiful family of mid-century inspired office furniture, \n",
        "including filing cabinets, desks, bookcases, meeting tables, and more.\n",
        "- Several options of shell color and base finishes.\n",
        "- Available with plastic back and front upholstery (SWC-100) \n",
        "or full upholstery (SWC-110) in 10 fabric and 6 leather options.\n",
        "- Base finish options are: stainless steel, matte black, \n",
        "gloss white, or chrome.\n",
        "- Chair is available with or without armrests.\n",
        "- Suitable for home or business settings.\n",
        "- Qualified for contract use.\n",
        "\n",
        "CONSTRUCTION\n",
        "- 5-wheel plastic coated aluminum base.\n",
        "- Pneumatic chair adjust for easy raise/lower action.\n",
        "\n",
        "DIMENSIONS\n",
        "- WIDTH 53 CM | 20.87”\n",
        "- DEPTH 51 CM | 20.08”\n",
        "- HEIGHT 80 CM | 31.50”\n",
        "- SEAT HEIGHT 44 CM | 17.32”\n",
        "- SEAT DEPTH 41 CM | 16.14”\n",
        "\n",
        "OPTIONS\n",
        "- Soft or hard-floor caster options.\n",
        "- Two choices of seat foam densities: \n",
        " medium (1.8 lb/ft3) or high (2.8 lb/ft3)\n",
        "- Armless or 8 position PU armrests \n",
        "\n",
        "MATERIALS\n",
        "SHELL BASE GLIDER\n",
        "- Cast Aluminum with modified nylon PA6/PA66 coating.\n",
        "- Shell thickness: 10 mm.\n",
        "SEAT\n",
        "- HD36 foam\n",
        "\n",
        "COUNTRY OF ORIGIN\n",
        "- Italy\n",
        "\"\"\""
      ],
      "metadata": {
        "id": "qvlzvdrXPFu8"
      },
      "execution_count": null,
      "outputs": []
    },
    {
      "cell_type": "code",
      "source": [
        "prompt = f\"\"\"\n",
        "Your task is to help a marketing team create a \n",
        "description for a retail website of a product based \n",
        "on a technical fact sheet.\n",
        "\n",
        "Write a product description based on the information \n",
        "provided in the technical specifications delimited by \n",
        "triple backticks.\n",
        "\n",
        "Technical specifications: ```{fact_sheet_chair}```\n",
        "\"\"\"\n",
        "response = get_completion(prompt)\n",
        "print(response)"
      ],
      "metadata": {
        "id": "ud7ouUMuPJTw"
      },
      "execution_count": null,
      "outputs": []
    },
    {
      "cell_type": "markdown",
      "source": [
        "\n",
        "******\n",
        "**ISSUE:** The response generated is too long. We need a shorter one.\n",
        "\n",
        "**Limit the number of words/sentences/characters.**\n",
        "******"
      ],
      "metadata": {
        "id": "xhAwwbrbPWUu"
      }
    },
    {
      "cell_type": "code",
      "source": [
        "prompt = f\"\"\"\n",
        "Your task is to help a marketing team create a \n",
        "description for a retail website of a product based \n",
        "on a technical fact sheet.\n",
        "\n",
        "Write a product description based on the information \n",
        "provided in the technical specifications delimited by \n",
        "triple backticks.\n",
        "\n",
        "Use at most 50 words.\n",
        "\n",
        "Technical specifications: ```{fact_sheet_chair}```\n",
        "\"\"\"\n",
        "response = get_completion(prompt)\n",
        "print(response)\n"
      ],
      "metadata": {
        "id": "edAOfpqrPVhd"
      },
      "execution_count": null,
      "outputs": []
    },
    {
      "cell_type": "markdown",
      "source": [
        "******\n",
        "**ISSUE:** Focus wrong details\n",
        "\n",
        "Assumtion : Lets we know priorly that it sell to retailer instead of direct consumer.(for this example)\n",
        "\n",
        "**SOL: Ask it to focus on the aspects that are relevant to the intended audience.**\n",
        "******"
      ],
      "metadata": {
        "id": "eb1juwvkQo5O"
      }
    },
    {
      "cell_type": "code",
      "source": [
        "# Adding more to the prompt for description\n",
        "prompt = f\"\"\"\n",
        "Your task is to help a marketing team create a \n",
        "description for a retail website of a product based \n",
        "on a technical fact sheet.\n",
        "\n",
        "Write a product description based on the information \n",
        "provided in the technical specifications delimited by \n",
        "triple backticks.\n",
        "\n",
        "The description is intended for furniture retailers, \n",
        "so should be technical in nature and focus on the \n",
        "materials the product is constructed from.\n",
        "\n",
        "Use at most 50 words.\n",
        "\n",
        "Technical specifications: ```{fact_sheet_chair}```\n",
        "\"\"\"\n",
        "response = get_completion(prompt)\n",
        "print(response)"
      ],
      "metadata": {
        "id": "MSVCtg5KQUGV"
      },
      "execution_count": null,
      "outputs": []
    },
    {
      "cell_type": "code",
      "source": [
        "# Suppose we need more detail about product-ID\n",
        "# Add prompt about it\n",
        "prompt = f\"\"\"\n",
        "Your task is to help a marketing team create a \n",
        "description for a retail website of a product based \n",
        "on a technical fact sheet.\n",
        "\n",
        "Write a product description based on the information \n",
        "provided in the technical specifications delimited by \n",
        "triple backticks.\n",
        "\n",
        "The description is intended for furniture retailers, \n",
        "so should be technical in nature and focus on the \n",
        "materials the product is constructed from.\n",
        "\n",
        "At the end of the description, include every 7-character \n",
        "Product ID in the technical specification.\n",
        "\n",
        "Use at most 50 words.\n",
        "\n",
        "Technical specifications: ```{fact_sheet_chair}```\n",
        "\"\"\"\n",
        "response = get_completion(prompt)\n",
        "print(response)"
      ],
      "metadata": {
        "id": "p04ymyLyRi_q"
      },
      "execution_count": null,
      "outputs": []
    },
    {
      "cell_type": "markdown",
      "source": [
        "******\n",
        "**Issue:** Description needs a table of dimensions (or some details in some format)\n",
        "- Ask it to extract information and organize it in a table.\n",
        "\n",
        "**SOL:Add prompt for it.**\n",
        "******"
      ],
      "metadata": {
        "id": "AFOKuaG0Ss8H"
      }
    },
    {
      "cell_type": "code",
      "source": [
        "#Adding prompt for table of dimension \n",
        "#Formating output in HTML\n",
        "prompt = f\"\"\"\n",
        "Your task is to help a marketing team create a \n",
        "description for a retail website of a product based \n",
        "on a technical fact sheet.\n",
        "\n",
        "Write a product description based on the information \n",
        "provided in the technical specifications delimited by \n",
        "triple backticks.\n",
        "\n",
        "The description is intended for furniture retailers, \n",
        "so should be technical in nature and focus on the \n",
        "materials the product is constructed from.\n",
        "\n",
        "At the end of the description, include every 7-character \n",
        "Product ID in the technical specification.\n",
        "\n",
        "After the description, include a table that gives the \n",
        "product's dimensions. The table should have two columns.\n",
        "In the first column include the name of the dimension. \n",
        "In the second column include the measurements in inches only.\n",
        "\n",
        "Give the table the title 'Product Dimensions'.\n",
        "\n",
        "Format everything as HTML that can be used in a website. \n",
        "Place the description in a <div> element.\n",
        "\n",
        "Technical specifications: ```{fact_sheet_chair}```\n",
        "\"\"\"\n",
        "\n",
        "response = get_completion(prompt)\n",
        "print(response)"
      ],
      "metadata": {
        "id": "cdZoIsQUPQ7v"
      },
      "execution_count": null,
      "outputs": []
    },
    {
      "cell_type": "code",
      "source": [
        "from IPython.display import display, HTML\n",
        "display(HTML(response))"
      ],
      "metadata": {
        "id": "kFoWzaKYTTb7"
      },
      "execution_count": null,
      "outputs": []
    },
    {
      "cell_type": "markdown",
      "source": [
        "******\n",
        "**SUMMARY : ITERATIVE**\n",
        "\n",
        "\n",
        "*   Try something.\n",
        "*   Analyze where the result does not give what you want.\n",
        "*   Clarify instructions, give more time to think.\n",
        "*   Refine prompt with batc of example.\n",
        "\n",
        "\n",
        "******"
      ],
      "metadata": {
        "id": "xK2GHwTsfETr"
      }
    },
    {
      "cell_type": "markdown",
      "source": [
        "# SUMMARIZING"
      ],
      "metadata": {
        "id": "3QQBSQODbOmG"
      }
    },
    {
      "cell_type": "markdown",
      "source": [
        "##Summarize"
      ],
      "metadata": {
        "id": "yKkeU6Qcimp3"
      }
    },
    {
      "cell_type": "markdown",
      "source": [
        "**Summarizing Product Review from a e- Commerce website**"
      ],
      "metadata": {
        "id": "5axWNCn5gNTI"
      }
    },
    {
      "cell_type": "code",
      "source": [
        "prod_review = \"\"\"\n",
        "Got this panda plush toy for my daughter's birthday, \\\n",
        "who loves it and takes it everywhere. It's soft and \\ \n",
        "super cute, and its face has a friendly look. It's \\ \n",
        "a bit small for what I paid though. I think there \\ \n",
        "might be other options that are bigger for the \\ \n",
        "same price. It arrived a day earlier than expected, \\ \n",
        "so I got to play with it myself before I gave it \\ \n",
        "to her.\n",
        "\"\"\""
      ],
      "metadata": {
        "id": "tdJATBoTgMnn"
      },
      "execution_count": null,
      "outputs": []
    },
    {
      "cell_type": "code",
      "source": [
        "# Limited size\n",
        "prompt = f\"\"\"\n",
        "Your task is to generate a short summary of a product \\\n",
        "review from an ecommerce site. \n",
        "\n",
        "Summarize the review below, delimited by triple \n",
        "backticks, in at most 30 words. \n",
        "\n",
        "Review: ```{prod_review}```\n",
        "\"\"\"\n",
        "\n",
        "response = get_completion(prompt)\n",
        "print(response)"
      ],
      "metadata": {
        "id": "V5OCpEiLgLmh"
      },
      "execution_count": null,
      "outputs": []
    },
    {
      "cell_type": "code",
      "source": [
        "# Focus on shipping and delivery\n",
        "prompt = f\"\"\"\n",
        "Your task is to generate a short summary of a product \\\n",
        "review from an ecommerce site to give feedback to the \\\n",
        "Shipping deparmtment. \n",
        "\n",
        "Summarize the review below, delimited by triple \n",
        "backticks, in at most 30 words, and focusing on any aspects \\\n",
        "that mention shipping and delivery of the product. \n",
        "\n",
        "Review: ```{prod_review}```\n",
        "\"\"\"\n",
        "\n",
        "response = get_completion(prompt)\n",
        "print(response)\n"
      ],
      "metadata": {
        "id": "uuR04MOFiG1l"
      },
      "execution_count": null,
      "outputs": []
    },
    {
      "cell_type": "code",
      "source": [
        "# Focus in price and value\n",
        "prompt = f\"\"\"\n",
        "Your task is to generate a short summary of a product \\\n",
        "review from an ecommerce site to give feedback to the \\\n",
        "pricing deparmtment, responsible for determining the \\\n",
        "price of the product.  \n",
        "\n",
        "Summarize the review below, delimited by triple \n",
        "backticks, in at most 30 words, and focusing on any aspects \\\n",
        "that are relevant to the price and perceived value. \n",
        "\n",
        "Review: ```{prod_review}```\n",
        "\"\"\"\n",
        "\n",
        "response = get_completion(prompt)\n",
        "print(response)"
      ],
      "metadata": {
        "id": "08hFWL_KiRvE"
      },
      "execution_count": null,
      "outputs": []
    },
    {
      "cell_type": "markdown",
      "source": [
        "##Extract"
      ],
      "metadata": {
        "id": "BmEufr1Kicip"
      }
    },
    {
      "cell_type": "code",
      "source": [
        "prompt = f\"\"\"\n",
        "Your task is to extract relevant information from \\ \n",
        "a product review from an ecommerce site to give \\\n",
        "feedback to the Shipping department. \n",
        "\n",
        "From the review below, delimited by triple quotes \\\n",
        "extract the information relevant to shipping and \\ \n",
        "delivery. Limit to 30 words. \n",
        "\n",
        "Review: ```{prod_review}```\n",
        "\"\"\"\n",
        "\n",
        "response = get_completion(prompt)\n",
        "print(response)"
      ],
      "metadata": {
        "id": "emDRS3sXitCy"
      },
      "execution_count": null,
      "outputs": []
    },
    {
      "cell_type": "markdown",
      "source": [
        "## Summarize multiple"
      ],
      "metadata": {
        "id": "l0O7et8fi-eE"
      }
    },
    {
      "cell_type": "code",
      "source": [
        "# review for a cute panda plush toy\n",
        "review_1 = prod_review \n",
        "\n",
        "# review for a standing lamp\n",
        "review_2 = \"\"\"\n",
        "Needed a nice lamp for my bedroom, and this one \\\n",
        "had additional storage and not too high of a price \\\n",
        "point. Got it fast - arrived in 2 days. The string \\\n",
        "to the lamp broke during the transit and the company \\\n",
        "happily sent over a new one. Came within a few days \\\n",
        "as well. It was easy to put together. Then I had a \\\n",
        "missing part, so I contacted their support and they \\\n",
        "very quickly got me the missing piece! Seems to me \\\n",
        "to be a great company that cares about their customers \\\n",
        "and products. \n",
        "\"\"\"\n",
        "\n",
        "# review for an electric toothbrush\n",
        "review_3 = \"\"\"\n",
        "My dental hygienist recommended an electric toothbrush, \\\n",
        "which is why I got this. The battery life seems to be \\\n",
        "pretty impressive so far. After initial charging and \\\n",
        "leaving the charger plugged in for the first week to \\\n",
        "condition the battery, I've unplugged the charger and \\\n",
        "been using it for twice daily brushing for the last \\\n",
        "3 weeks all on the same charge. But the toothbrush head \\\n",
        "is too small. I’ve seen baby toothbrushes bigger than \\\n",
        "this one. I wish the head was bigger with different \\\n",
        "length bristles to get between teeth better because \\\n",
        "this one doesn’t.  Overall if you can get this one \\\n",
        "around the $50 mark, it's a good deal. The manufactuer's \\\n",
        "replacements heads are pretty expensive, but you can \\\n",
        "get generic ones that're more reasonably priced. This \\\n",
        "toothbrush makes me feel like I've been to the dentist \\\n",
        "every day. My teeth feel sparkly clean! \n",
        "\"\"\"\n",
        "\n",
        "# review for a blender\n",
        "review_4 = \"\"\"\n",
        "So, they still had the 17 piece system on seasonal \\\n",
        "sale for around $49 in the month of November, about \\\n",
        "half off, but for some reason (call it price gouging) \\\n",
        "around the second week of December the prices all went \\\n",
        "up to about anywhere from between $70-$89 for the same \\\n",
        "system. And the 11 piece system went up around $10 or \\\n",
        "so in price also from the earlier sale price of $29. \\\n",
        "So it looks okay, but if you look at the base, the part \\\n",
        "where the blade locks into place doesn’t look as good \\\n",
        "as in previous editions from a few years ago, but I \\\n",
        "plan to be very gentle with it (example, I crush \\\n",
        "very hard items like beans, ice, rice, etc. in the \\ \n",
        "blender first then pulverize them in the serving size \\\n",
        "I want in the blender then switch to the whipping \\\n",
        "blade for a finer flour, and use the cross cutting blade \\\n",
        "first when making smoothies, then use the flat blade \\\n",
        "if I need them finer/less pulpy). Special tip when making \\\n",
        "smoothies, finely cut and freeze the fruits and \\\n",
        "vegetables (if using spinach-lightly stew soften the \\ \n",
        "spinach then freeze until ready for use-and if making \\\n",
        "sorbet, use a small to medium sized food processor) \\ \n",
        "that you plan to use that way you can avoid adding so \\\n",
        "much ice if at all-when making your smoothie. \\\n",
        "After about a year, the motor was making a funny noise. \\\n",
        "I called customer service but the warranty expired \\\n",
        "already, so I had to buy another one. FYI: The overall \\\n",
        "quality has gone done in these types of products, so \\\n",
        "they are kind of counting on brand recognition and \\\n",
        "consumer loyalty to maintain sales. Got it in about \\\n",
        "two days.\n",
        "\"\"\"\n",
        "\n",
        "reviews = [review_1, review_2, review_3, review_4]"
      ],
      "metadata": {
        "id": "FJbzF7YCjDK1"
      },
      "execution_count": null,
      "outputs": []
    },
    {
      "cell_type": "code",
      "source": [
        "for i in range(len(reviews)):\n",
        "    prompt = f\"\"\"\n",
        "    Your task is to generate a short summary of a product \\ \n",
        "    review from an ecommerce site. \n",
        "\n",
        "    Summarize the review below, delimited by triple \\\n",
        "    backticks in at most 20 words. \n",
        "\n",
        "    Review: ```{reviews[i]}```\n",
        "    \"\"\"\n",
        "\n",
        "    response = get_completion(prompt)\n",
        "    print(i, response, \"\\n\")"
      ],
      "metadata": {
        "id": "gCMgPEAEjbLS"
      },
      "execution_count": null,
      "outputs": []
    },
    {
      "cell_type": "markdown",
      "source": [
        "#INFERRING"
      ],
      "metadata": {
        "id": "n_vaT7zejdOd"
      }
    },
    {
      "cell_type": "markdown",
      "source": [
        "**Extracting names, labels, sentiments etc.**"
      ],
      "metadata": {
        "id": "XnMr2q7UjqT-"
      }
    },
    {
      "cell_type": "markdown",
      "source": [
        "## Sentiment Analysis\n"
      ],
      "metadata": {
        "id": "cdPec9w1kGFW"
      }
    },
    {
      "cell_type": "code",
      "source": [
        "lamp_review = \"\"\"\n",
        "Needed a nice lamp for my bedroom, and this one had \\\n",
        "additional storage and not too high of a price point. \\\n",
        "Got it fast.  The string to our lamp broke during the \\\n",
        "transit and the company happily sent over a new one. \\\n",
        "Came within a few days as well. It was easy to put \\\n",
        "together.  I had a missing part, so I contacted their \\\n",
        "support and they very quickly got me the missing piece! \\\n",
        "Lumina seems to me to be a great company that cares \\\n",
        "about their customers and products!!\n",
        "\"\"\""
      ],
      "metadata": {
        "id": "r3ulsgczjoqk"
      },
      "execution_count": null,
      "outputs": []
    },
    {
      "cell_type": "code",
      "source": [
        "prompt = f\"\"\"\n",
        "What is the sentiment of the following product review, \n",
        "which is delimited with triple backticks?\n",
        "\n",
        "Review text: '''{lamp_review}'''\n",
        "\"\"\"\n",
        "response = get_completion(prompt)\n",
        "print(response)"
      ],
      "metadata": {
        "id": "w-dL2gyykVhB"
      },
      "execution_count": null,
      "outputs": []
    },
    {
      "cell_type": "code",
      "source": [
        "# Sentiments: either \"positive\" or \"negative\".\n",
        "prompt = f\"\"\"\n",
        "What is the sentiment of the following product review, \n",
        "which is delimited with triple backticks?\n",
        "\n",
        "Give your answer as a single word, either \"positive\" \\\n",
        "or \"negative\".\n",
        "\n",
        "Review text: '''{lamp_review}'''\n",
        "\"\"\"\n",
        "response = get_completion(prompt)\n",
        "print(response)"
      ],
      "metadata": {
        "id": "zrSVHAfpkp9Q"
      },
      "execution_count": null,
      "outputs": []
    },
    {
      "cell_type": "code",
      "source": [
        "# Emotions\n",
        "prompt = f\"\"\"\n",
        "Identify a list of emotions that the writer of the \\\n",
        "following review is expressing. Include no more than \\\n",
        "five items in the list. Format your answer as a list of \\\n",
        "lower-case words separated by commas.\n",
        "\n",
        "Review text: '''{lamp_review}'''\n",
        "\"\"\"\n",
        "response = get_completion(prompt)\n",
        "print(response)"
      ],
      "metadata": {
        "id": "OheinGzFk_uu"
      },
      "execution_count": null,
      "outputs": []
    },
    {
      "cell_type": "code",
      "source": [
        "# Anger or not\n",
        "prompt = f\"\"\"\n",
        "Is the writer of the following review expressing anger?\\\n",
        "The review is delimited with triple backticks. \\\n",
        "Give your answer as either yes or no.\n",
        "\n",
        "Review text: '''{lamp_review}'''\n",
        "\"\"\"\n",
        "response = get_completion(prompt)\n",
        "print(response)"
      ],
      "metadata": {
        "id": "CFPA1kThlLit"
      },
      "execution_count": null,
      "outputs": []
    },
    {
      "cell_type": "code",
      "source": [
        "# Extract Item and Brand name\n",
        "prompt = f\"\"\"\n",
        "Identify the following items from the review text: \n",
        "- Item purchased by reviewer\n",
        "- Company that made the item\n",
        "\n",
        "The review is delimited with triple backticks. \\\n",
        "Format your response as a JSON object with \\\n",
        "\"Item\" and \"Brand\" as the keys. \n",
        "If the information isn't present, use \"unknown\" \\\n",
        "as the value.\n",
        "Make your response as short as possible.\n",
        "  \n",
        "Review text: '''{lamp_review}'''\n",
        "\"\"\"\n",
        "response = get_completion(prompt)\n",
        "print(response)"
      ],
      "metadata": {
        "id": "9rNPL4s3ol1p"
      },
      "execution_count": null,
      "outputs": []
    },
    {
      "cell_type": "code",
      "source": [
        "# Extract Item and Brand name along with sentiments and anger\n",
        "prompt = f\"\"\"\n",
        "Identify the following items from the review text: \n",
        "- Sentiment (positive or negative)\n",
        "- Is the reviewer expressing anger? (true or false)\n",
        "- Item purchased by reviewer\n",
        "- Company that made the item\n",
        "\n",
        "The review is delimited with triple backticks. \\\n",
        "Format your response as a JSON object with \\\n",
        "\"Sentiment\", \"Anger\", \"Item\" and \"Brand\" as the keys.\n",
        "If the information isn't present, use \"unknown\" \\\n",
        "as the value.\n",
        "Make your response as short as possible.\n",
        "Format the Anger value as a boolean.\n",
        "\n",
        "Review text: '''{lamp_review}'''\n",
        "\"\"\"\n",
        "response = get_completion(prompt)\n",
        "print(response)"
      ],
      "metadata": {
        "id": "LdL8gtmpovzI"
      },
      "execution_count": null,
      "outputs": []
    },
    {
      "cell_type": "markdown",
      "source": [
        "## Inferring Topics"
      ],
      "metadata": {
        "id": "7bXiNSQOpA6N"
      }
    },
    {
      "cell_type": "code",
      "source": [
        "story = \"\"\"\n",
        "In a recent survey conducted by the government, \n",
        "public sector employees were asked to rate their level \n",
        "of satisfaction with the department they work at. \n",
        "The results revealed that NASA was the most popular \n",
        "department with a satisfaction rating of 95%.\n",
        "\n",
        "One NASA employee, John Smith, commented on the findings, \n",
        "stating, \"I'm not surprised that NASA came out on top. \n",
        "It's a great place to work with amazing people and \n",
        "incredible opportunities. I'm proud to be a part of \n",
        "such an innovative organization.\"\n",
        "\n",
        "The results were also welcomed by NASA's management team, \n",
        "with Director Tom Johnson stating, \"We are thrilled to \n",
        "hear that our employees are satisfied with their work at NASA. \n",
        "We have a talented and dedicated team who work tirelessly \n",
        "to achieve our goals, and it's fantastic to see that their \n",
        "hard work is paying off.\"\n",
        "\n",
        "The survey also revealed that the \n",
        "Social Security Administration had the lowest satisfaction \n",
        "rating, with only 45% of employees indicating they were \n",
        "satisfied with their job. The government has pledged to \n",
        "address the concerns raised by employees in the survey and \n",
        "work towards improving job satisfaction across all departments.\n",
        "\"\"\""
      ],
      "metadata": {
        "id": "vNLtR1fUpHgf"
      },
      "execution_count": null,
      "outputs": []
    },
    {
      "cell_type": "code",
      "source": [
        "#Inferring topics\n",
        "prompt = f\"\"\"\n",
        "Determine five topics that are being discussed in the \\\n",
        "following text, which is delimited by triple backticks.\n",
        "\n",
        "Make each item one or two words long. \n",
        "\n",
        "Format your response as a list of items separated by commas.\n",
        "\n",
        "Text sample: '''{story}'''\n",
        "\"\"\"\n",
        "response = get_completion(prompt)\n",
        "print(response)"
      ],
      "metadata": {
        "id": "W1pbJuPzpKFn"
      },
      "execution_count": null,
      "outputs": []
    },
    {
      "cell_type": "code",
      "source": [
        "response.split(sep=',') #This can be futher used for different tasks"
      ],
      "metadata": {
        "id": "l0wjRXV8pRmN"
      },
      "execution_count": null,
      "outputs": []
    },
    {
      "cell_type": "markdown",
      "source": [
        "## News alert!!!"
      ],
      "metadata": {
        "id": "zkLeeKd0pfnt"
      }
    },
    {
      "cell_type": "markdown",
      "source": [
        "**Used in actual Production System**"
      ],
      "metadata": {
        "id": "QoX1BLjaqCAL"
      }
    },
    {
      "cell_type": "code",
      "source": [
        "topic_list = [\n",
        "    \"nasa\", \"local government\", \"engineering\", \n",
        "    \"employee satisfaction\", \"federal government\"\n",
        "]"
      ],
      "metadata": {
        "id": "lWG2qSQWpbjT"
      },
      "execution_count": null,
      "outputs": []
    },
    {
      "cell_type": "code",
      "source": [
        "prompt = f\"\"\"\n",
        "Determine whether each item in the following list of \\\n",
        "topics is a topic in the text below, which\n",
        "is delimited with triple backticks.\n",
        "\n",
        "Give your answer as list with 0 or 1 for each topic.\\\n",
        "\n",
        "List of topics: {\", \".join(topic_list)}\n",
        "\n",
        "Text sample: '''{story}'''\n",
        "\"\"\"\n",
        "response = get_completion(prompt)\n",
        "print(response)"
      ],
      "metadata": {
        "id": "SDursABTpoAg"
      },
      "execution_count": null,
      "outputs": []
    },
    {
      "cell_type": "code",
      "source": [
        "topic_dict = {i.split(': ')[0]: int(i.split(': ')[1]) for i in response.split(sep='\\n')}\n",
        "if topic_dict['nasa'] == 1:\n",
        "    print(\"ALERT: New NASA story!\")"
      ],
      "metadata": {
        "id": "vmocN65SqAYY"
      },
      "execution_count": null,
      "outputs": []
    },
    {
      "cell_type": "markdown",
      "source": [
        "#TRANSFORMING"
      ],
      "metadata": {
        "id": "UVlxwev8TP4w"
      }
    },
    {
      "cell_type": "markdown",
      "source": [
        "##Translation"
      ],
      "metadata": {
        "id": "y4RU__38Uz_Z"
      }
    },
    {
      "cell_type": "code",
      "source": [
        "prompt = f\"\"\"\n",
        "Translate the following English text to Spanish: \\ \n",
        "```Hi, I would like to order a blender```\n",
        "\"\"\"\n",
        "response = get_completion(prompt)\n",
        "print(response)"
      ],
      "metadata": {
        "id": "_swn803dTXdp"
      },
      "execution_count": null,
      "outputs": []
    },
    {
      "cell_type": "code",
      "source": [
        "#Identify thhe language\n",
        "prompt = f\"\"\"\n",
        "Tell me which language this is: \n",
        "```Combien coûte le lampadaire?```\n",
        "\"\"\"\n",
        "response = get_completion(prompt)\n",
        "print(response)"
      ],
      "metadata": {
        "id": "3T8j_z28U-6k"
      },
      "execution_count": null,
      "outputs": []
    },
    {
      "cell_type": "code",
      "source": [
        "#Translation\n",
        "prompt = f\"\"\"\n",
        "Translate the following  text to French and Spanish\n",
        "and English pirate: \\\n",
        "```I want to order a basketball```\n",
        "\"\"\"\n",
        "response = get_completion(prompt)\n",
        "print(response)"
      ],
      "metadata": {
        "id": "RIb-FZpWVCIp"
      },
      "execution_count": null,
      "outputs": []
    },
    {
      "cell_type": "code",
      "source": [
        "# Translation with Formal and informal\n",
        "prompt = f\"\"\"\n",
        "Translate the following text to Spanish in both the \\\n",
        "formal and informal forms: \n",
        "'Would you like to order a pillow?'\n",
        "\"\"\"\n",
        "response = get_completion(prompt)\n",
        "print(response)"
      ],
      "metadata": {
        "id": "xqaHZzu2VKB4"
      },
      "execution_count": null,
      "outputs": []
    },
    {
      "cell_type": "code",
      "source": [
        "#IT issues with the user in multi national company\n",
        "\n",
        "user_messages = [\n",
        "  \"La performance du système est plus lente que d'habitude.\",  # System performance is slower than normal         \n",
        "  \"Mi monitor tiene píxeles que no se iluminan.\",              # My monitor has pixels that are not lighting\n",
        "  \"Il mio mouse non funziona\",                                 # My mouse is not working\n",
        "  \"Mój klawisz Ctrl jest zepsuty\",                             # My keyboard has a broken control key\n",
        "  \"我的屏幕在闪烁\"                                               # My screen is flashing\n",
        "] "
      ],
      "metadata": {
        "id": "et26k0M3VQ5m"
      },
      "execution_count": null,
      "outputs": []
    },
    {
      "cell_type": "code",
      "source": [
        "for issue in user_messages:\n",
        "    prompt = f\"Tell me what language this is: ```{issue}```\"\n",
        "    lang = get_completion(prompt)\n",
        "    print(f\"Original message ({lang}): {issue}\")\n",
        "\n",
        "    prompt = f\"\"\"\n",
        "    Translate the following  text to English \\\n",
        "    and Korean: ```{issue}```\n",
        "    \"\"\"\n",
        "    response = get_completion(prompt)\n",
        "    print(response, \"\\n\")"
      ],
      "metadata": {
        "id": "0PaiX5r0Vjc6"
      },
      "execution_count": null,
      "outputs": []
    },
    {
      "cell_type": "code",
      "source": [
        "# Tone translation to formal\n",
        "prompt = f\"\"\"\n",
        "Translate the following from slang to a business letter: \n",
        "'Dude, This is Joe, check out this spec on this standing lamp.'\n",
        "\"\"\"\n",
        "response = get_completion(prompt)\n",
        "print(response)"
      ],
      "metadata": {
        "id": "aqRSBZMdVnQ3"
      },
      "execution_count": null,
      "outputs": []
    },
    {
      "cell_type": "markdown",
      "source": [
        "##Format Conversion"
      ],
      "metadata": {
        "id": "-lPIAsQvVync"
      }
    },
    {
      "cell_type": "code",
      "source": [
        "#JSON to HTML it can be done between different format\n",
        "data_json = { \"resturant employees\" :[ \n",
        "    {\"name\":\"Shyam\", \"email\":\"shyamjaiswal@gmail.com\"},\n",
        "    {\"name\":\"Bob\", \"email\":\"bob32@gmail.com\"},\n",
        "    {\"name\":\"Jai\", \"email\":\"jai87@gmail.com\"}\n",
        "]}\n",
        "\n",
        "prompt = f\"\"\"\n",
        "Translate the following python dictionary from JSON to an HTML \\\n",
        "table with column headers and title: {data_json}\n",
        "\"\"\"\n",
        "response = get_completion(prompt)\n",
        "print(response)"
      ],
      "metadata": {
        "id": "5wOz638tV3AF"
      },
      "execution_count": null,
      "outputs": []
    },
    {
      "cell_type": "markdown",
      "source": [
        "## Grammar Check"
      ],
      "metadata": {
        "id": "pUxzJwEKWB1X"
      }
    },
    {
      "cell_type": "code",
      "source": [
        "text = [ \n",
        "  \"The girl with the black and white puppies have a ball.\",  # The girl has a ball.\n",
        "  \"Yolanda has her notebook.\", # ok\n",
        "  \"Its going to be a long day. Does the car need it’s oil changed?\",  # Homonyms\n",
        "  \"Their goes my freedom. There going to bring they’re suitcases.\",  # Homonyms\n",
        "  \"Your going to need you’re notebook.\",  # Homonyms\n",
        "  \"That medicine effects my ability to sleep. Have you heard of the butterfly affect?\", # Homonyms\n",
        "  \"This phrase is to cherck chatGPT for speling abilitty\"  # spelling\n",
        "]\n",
        "for t in text:\n",
        "    prompt = f\"\"\"Proofread and correct the following text\n",
        "    and rewrite the corrected version. If you don't find\n",
        "    and errors, just say \"No errors found\". Don't use \n",
        "    any punctuation around the text:\n",
        "    ```{t}```\"\"\"\n",
        "    response = get_completion(prompt)\n",
        "    print(response)"
      ],
      "metadata": {
        "id": "jEgodZ9zWHIY"
      },
      "execution_count": null,
      "outputs": []
    },
    {
      "cell_type": "code",
      "source": [
        "# Review grammar correction\n",
        "text = f\"\"\"\n",
        "Got this for my daughter for her birthday cuz she keeps taking \\\n",
        "mine from my room.  Yes, adults also like pandas too.  She takes \\\n",
        "it everywhere with her, and it's super soft and cute.  One of the \\\n",
        "ears is a bit lower than the other, and I don't think that was \\\n",
        "designed to be asymmetrical. It's a bit small for what I paid for it \\\n",
        "though. I think there might be other options that are bigger for \\\n",
        "the same price.  It arrived a day earlier than expected, so I got \\\n",
        "to play with it myself before I gave it to my daughter.\n",
        "\"\"\"\n",
        "prompt = f\"proofread and correct this review: ```{text}```\"\n",
        "response = get_completion(prompt)\n",
        "print(response)"
      ],
      "metadata": {
        "id": "GLqsfRIDWVB5"
      },
      "execution_count": null,
      "outputs": []
    },
    {
      "cell_type": "code",
      "source": [
        "# APA style\n",
        "prompt = f\"\"\"\n",
        "proofread and correct this review. Make it more compelling. \n",
        "Ensure it follows APA style guide and targets an advanced reader. \n",
        "Output in markdown format.\n",
        "Text: ```{text}```\n",
        "\"\"\"\n",
        "response = get_completion(prompt)\n",
        "display(Markdown(response))"
      ],
      "metadata": {
        "id": "2nZ8b8t3aDhc"
      },
      "execution_count": null,
      "outputs": []
    },
    {
      "cell_type": "markdown",
      "source": [
        "#EXPANDING"
      ],
      "metadata": {
        "id": "o4m9NQkNqLUd"
      }
    },
    {
      "cell_type": "markdown",
      "source": [
        "**More the temperature more the diverse result**\n",
        "\n",
        "**Temp 0** : Task requires more reliability and \n",
        "\n",
        "**Temp 0.3 , 0.7** : Task that requires more variety"
      ],
      "metadata": {
        "id": "8VVBJ6KkwoAv"
      }
    },
    {
      "cell_type": "code",
      "source": [
        "def get_completion(prompt, model=\"gpt-3.5-turbo\",temperature=0.7): \n",
        "    messages = [{\"role\": \"user\", \"content\": prompt}]\n",
        "    response = openai.ChatCompletion.create(\n",
        "        model=model,\n",
        "        messages=messages,\n",
        "        temperature=temperature, # this is the degree of randomness of the model's output\n",
        "    )\n",
        "    return response.choices[0].message[\"content\"]"
      ],
      "metadata": {
        "id": "XrBfnyfmwnQf"
      },
      "execution_count": null,
      "outputs": []
    },
    {
      "cell_type": "markdown",
      "source": [
        "## Automated reply for customer email"
      ],
      "metadata": {
        "id": "g7-yZILmxoOA"
      }
    },
    {
      "cell_type": "code",
      "source": [
        "# given the sentiment from the lesson on \"inferring\", and the original customer message, customize the email\n",
        "sentiment = \"negative\"\n",
        "\n",
        "# review for a blender\n",
        "review = f\"\"\"\n",
        "So, they still had the 17 piece system on seasonal \\\n",
        "sale for around $49 in the month of November, about \\\n",
        "half off, but for some reason (call it price gouging) \\\n",
        "around the second week of December the prices all went \\\n",
        "up to about anywhere from between $70-$89 for the same \\\n",
        "system. And the 11 piece system went up around $10 or \\\n",
        "so in price also from the earlier sale price of $29. \\\n",
        "So it looks okay, but if you look at the base, the part \\\n",
        "where the blade locks into place doesn’t look as good \\\n",
        "as in previous editions from a few years ago, but I \\\n",
        "plan to be very gentle with it (example, I crush \\\n",
        "very hard items like beans, ice, rice, etc. in the \\ \n",
        "blender first then pulverize them in the serving size \\\n",
        "I want in the blender then switch to the whipping \\\n",
        "blade for a finer flour, and use the cross cutting blade \\\n",
        "first when making smoothies, then use the flat blade \\\n",
        "if I need them finer/less pulpy). Special tip when making \\\n",
        "smoothies, finely cut and freeze the fruits and \\\n",
        "vegetables (if using spinach-lightly stew soften the \\ \n",
        "spinach then freeze until ready for use-and if making \\\n",
        "sorbet, use a small to medium sized food processor) \\ \n",
        "that you plan to use that way you can avoid adding so \\\n",
        "much ice if at all-when making your smoothie. \\\n",
        "After about a year, the motor was making a funny noise. \\\n",
        "I called customer service but the warranty expired \\\n",
        "already, so I had to buy another one. FYI: The overall \\\n",
        "quality has gone done in these types of products, so \\\n",
        "they are kind of counting on brand recognition and \\\n",
        "consumer loyalty to maintain sales. Got it in about \\\n",
        "two days.\n",
        "\"\"\""
      ],
      "metadata": {
        "id": "vb7Ff1Hju2CQ"
      },
      "execution_count": null,
      "outputs": []
    },
    {
      "cell_type": "code",
      "source": [
        "# Using details from customer emails\n",
        "prompt = f\"\"\"\n",
        "You are a customer service AI assistant.\n",
        "Your task is to send an email reply to a valued customer.\n",
        "Given the customer email delimited by ```, \\\n",
        "Generate a reply to thank the customer for their review.\n",
        "If the sentiment is positive or neutral, thank them for \\\n",
        "their review.\n",
        "If the sentiment is negative, apologize and suggest that \\\n",
        "they can reach out to customer service.\n",
        "\n",
        "Make sure to use specific details from the review.\n",
        "\n",
        "Write in a concise and professional tone.\n",
        "Sign the email as `AI customer agent`.\n",
        "Customer review: ```{review}```\n",
        "Review sentiment: {sentiment}\n",
        "\"\"\"\n",
        "response = get_completion(prompt)\n",
        "print(response)"
      ],
      "metadata": {
        "id": "lCUf1TSAxt1p"
      },
      "execution_count": null,
      "outputs": []
    },
    {
      "cell_type": "markdown",
      "source": [
        "#CHATBOT"
      ],
      "metadata": {
        "id": "ItHDmT2ryJyt"
      }
    },
    {
      "cell_type": "code",
      "source": [
        "#USER - Input message\n",
        "#SYS - Output message"
      ],
      "metadata": {
        "id": "g2wDBn7HbJlD"
      },
      "execution_count": null,
      "outputs": []
    },
    {
      "cell_type": "code",
      "source": [
        "def get_completion(prompt, model=\"gpt-3.5-turbo\"):\n",
        "    messages = [{\"role\": \"user\", \"content\": prompt}]\n",
        "    response = openai.ChatCompletion.create(\n",
        "        model=model,\n",
        "        messages=messages,\n",
        "        temperature=0, # this is the degree of randomness of the model's output\n",
        "    )\n",
        "    return response.choices[0].message[\"content\"]"
      ],
      "metadata": {
        "id": "Y8QU06sXycIi"
      },
      "execution_count": null,
      "outputs": []
    },
    {
      "cell_type": "code",
      "source": [
        "# Here we will pass list of message\n",
        "def get_completion_from_messages(messages, model=\"gpt-3.5-turbo\", temperature=0):\n",
        "    response = openai.ChatCompletion.create(\n",
        "        model=model,\n",
        "        messages=messages,\n",
        "        temperature=temperature, # this is the degree of randomness of the model's output\n",
        "    )\n",
        "#     print(str(response.choices[0].message))\n",
        "    return response.choices[0].message[\"content\"]"
      ],
      "metadata": {
        "id": "mjpy9HwdbVvI"
      },
      "execution_count": null,
      "outputs": []
    },
    {
      "cell_type": "markdown",
      "source": [
        "******\n",
        "SYSTEM MSG: Set the behaviour of Assistant\n",
        "******\n"
      ],
      "metadata": {
        "id": "u9KEdvdXbe2h"
      }
    },
    {
      "cell_type": "code",
      "source": [
        "messages =  [  \n",
        "{'role':'system', 'content':'You are an assistant that speaks like Shakespeare.'},    \n",
        "{'role':'user', 'content':'tell me a joke'},   \n",
        "{'role':'assistant', 'content':'Why did the chicken cross the road'},   \n",
        "{'role':'user', 'content':'I don\\'t know'}  ]"
      ],
      "metadata": {
        "id": "Oqth4ux4a3v0"
      },
      "execution_count": null,
      "outputs": []
    },
    {
      "cell_type": "code",
      "source": [
        "response = get_completion_from_messages(messages, temperature=1)    # High Temerature (higher diversity)\n",
        "print(response)"
      ],
      "metadata": {
        "id": "89d_02GEb0Jm"
      },
      "execution_count": null,
      "outputs": []
    },
    {
      "cell_type": "code",
      "source": [
        "messages =  [  \n",
        "{'role':'system', 'content':'You are friendly chatbot.'},    \n",
        "{'role':'user', 'content':'Hi, my name is Isa'}  ]\n",
        "response = get_completion_from_messages(messages, temperature=1)\n",
        "print(response)"
      ],
      "metadata": {
        "id": "Tt7jafhFcMn3"
      },
      "execution_count": null,
      "outputs": []
    },
    {
      "cell_type": "code",
      "source": [
        "messages =  [  \n",
        "{'role':'system', 'content':'You are friendly chatbot.'},    \n",
        "{'role':'user', 'content':'Yes,  can you remind me, What is my name?'}  ]\n",
        "response = get_completion_from_messages(messages, temperature=1)\n",
        "print(response)"
      ],
      "metadata": {
        "id": "oDaPFCt4cXa7"
      },
      "execution_count": null,
      "outputs": []
    },
    {
      "cell_type": "markdown",
      "source": [
        "******\n",
        "Model does not know the name.\n",
        "\n",
        "Each conversation with language model is standalone conversation i.e., we need to provide all the necessary details.\n",
        "******"
      ],
      "metadata": {
        "id": "TJ0SdMAgcqG1"
      }
    },
    {
      "cell_type": "code",
      "source": [
        "messages =  [  \n",
        "{'role':'system', 'content':'You are friendly chatbot.'},\n",
        "{'role':'user', 'content':'Hi, my name is Isa'},\n",
        "{'role':'assistant', 'content': \"Hi Isa! It's nice to meet you. \\\n",
        "Is there anything I can help you with today?\"},\n",
        "{'role':'user', 'content':'Yes, you can remind me, What is my name?'}  ]\n",
        "response = get_completion_from_messages(messages, temperature=1)\n",
        "print(response)"
      ],
      "metadata": {
        "id": "dHb9XSAqcgqA"
      },
      "execution_count": null,
      "outputs": []
    },
    {
      "cell_type": "markdown",
      "source": [
        "## ChatBot for Restaurant"
      ],
      "metadata": {
        "id": "KRyPsjSNdmpD"
      }
    },
    {
      "cell_type": "code",
      "source": [
        "def collect_messages(_):\n",
        "    prompt = inp.value_input\n",
        "    inp.value = ''\n",
        "    context.append({'role':'user', 'content':f\"{prompt}\"})\n",
        "    response = get_completion_from_messages(context) \n",
        "    context.append({'role':'assistant', 'content':f\"{response}\"})\n",
        "    panels.append(\n",
        "        pn.Row('User:', pn.pane.Markdown(prompt, width=600)))\n",
        "    panels.append(\n",
        "        pn.Row('Assistant:', pn.pane.Markdown(response, width=600, style={'background-color': '#F6F6F6'})))\n",
        " \n",
        "    return pn.Column(*panels)"
      ],
      "metadata": {
        "id": "Ct8OSuu1d5w9"
      },
      "execution_count": null,
      "outputs": []
    },
    {
      "cell_type": "code",
      "source": [
        "import panel as pn  # GUI\n",
        "pn.extension()\n",
        "  \n",
        "panels = [] # collect display \n",
        "\n",
        "context = [ {'role':'system', 'content':\"\"\"\n",
        "You are OrderBot, an automated service to collect orders for a pizza restaurant. \\\n",
        "You first greet the customer, then collects the order, \\\n",
        "and then asks if it's a pickup or delivery. \\\n",
        "You wait to collect the entire order, then summarize it and check for a final \\\n",
        "time if the customer wants to add anything else. \\\n",
        "If it's a delivery, you ask for an address. \\\n",
        "Finally you collect the payment.\\\n",
        "Make sure to clarify all options, extras and sizes to uniquely \\\n",
        "identify the item from the menu.\\\n",
        "You respond in a short, very conversational friendly style. \\\n",
        "The menu includes \\\n",
        "pepperoni pizza  12.95, 10.00, 7.00 \\\n",
        "cheese pizza   10.95, 9.25, 6.50 \\\n",
        "eggplant pizza   11.95, 9.75, 6.75 \\\n",
        "fries 4.50, 3.50 \\\n",
        "greek salad 7.25 \\\n",
        "Toppings: \\\n",
        "extra cheese 2.00, \\\n",
        "mushrooms 1.50 \\\n",
        "sausage 3.00 \\\n",
        "canadian bacon 3.50 \\\n",
        "AI sauce 1.50 \\\n",
        "peppers 1.00 \\\n",
        "Drinks: \\\n",
        "coke 3.00, 2.00, 1.00 \\\n",
        "sprite 3.00, 2.00, 1.00 \\\n",
        "bottled water 5.00 \\\n",
        "\"\"\"} ]  # accumulate messages\n",
        "\n",
        "\n",
        "inp = pn.widgets.TextInput(value=\"Hi\", placeholder='Enter text here…')\n",
        "button_conversation = pn.widgets.Button(name=\"Chat!\")\n",
        "\n",
        "interactive_conversation = pn.bind(collect_messages, button_conversation)\n",
        "\n",
        "dashboard = pn.Column(\n",
        "    inp,\n",
        "    pn.Row(button_conversation),\n",
        "    pn.panel(interactive_conversation, loading_indicator=True, height=300),\n",
        ")\n",
        "\n",
        "dashboard"
      ],
      "metadata": {
        "id": "H4yYsvvfhFkV"
      },
      "execution_count": null,
      "outputs": []
    },
    {
      "cell_type": "code",
      "source": [
        "messages =  context.copy()\n",
        "messages.append(\n",
        "{'role':'system', 'content':'create a json summary of the previous food order. Itemize the price for each item\\\n",
        " The fields should be 1) pizza, include size 2) list of toppings 3) list of drinks, include size   4) list of sides include size  5)total price '},    \n",
        ")\n",
        " #The fields should be 1) pizza, price 2) list of toppings 3) list of drinks, include size include price  4) list of sides include size include price, 5)total price '},    \n",
        "\n",
        "response = get_completion_from_messages(messages, temperature=0)\n",
        "print(response)"
      ],
      "metadata": {
        "id": "wljnbQnGkiRM"
      },
      "execution_count": null,
      "outputs": []
    }
  ]
}