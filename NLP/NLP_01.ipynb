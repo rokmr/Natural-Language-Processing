{
  "nbformat": 4,
  "nbformat_minor": 0,
  "metadata": {
    "colab": {
      "provenance": []
    },
    "kernelspec": {
      "name": "python3",
      "display_name": "Python 3"
    },
    "language_info": {
      "name": "python"
    }
  },
  "cells": [
    {
      "cell_type": "markdown",
      "source": [
        "# FORMATTING\n"
      ],
      "metadata": {
        "id": "bpn5M1jWokiw"
      }
    },
    {
      "cell_type": "markdown",
      "source": [
        "##String"
      ],
      "metadata": {
        "id": "DYDWU_49wZQf"
      }
    },
    {
      "cell_type": "code",
      "source": [
        "Student_Details = [('Name', 'Age', 'State', 'Reg NO'), \n",
        "                   ('Rohit', '22', 'Bihar', 'XXXXXXXXXX4848'),\n",
        "                   ('Hari', '25', 'Chhatishgarh', 'XXXXXXXXXX4889'),\n",
        "                   ('Ram', '19', 'Goa', 'XXXXXXXXXX5483')]"
      ],
      "metadata": {
        "id": "e1VlE3axuAHN"
      },
      "execution_count": 1,
      "outputs": []
    },
    {
      "cell_type": "code",
      "source": [
        "for name, age, state, reg_no in Student_Details:\n",
        "  print(f\"{name} {age} {state} {reg_no}\")"
      ],
      "metadata": {
        "colab": {
          "base_uri": "https://localhost:8080/"
        },
        "id": "c57h4ufBvLtc",
        "outputId": "cbe75692-144f-4523-f445-8c274268f543"
      },
      "execution_count": 4,
      "outputs": [
        {
          "output_type": "stream",
          "name": "stdout",
          "text": [
            "Name Age State Reg NO\n",
            "Rohit 22 Bihar XXXXXXXXXX4848\n",
            "Hari 25 Chhatishgarh XXXXXXXXXX4889\n",
            "Ram 19 Goa XXXXXXXXXX5483\n"
          ]
        }
      ]
    },
    {
      "cell_type": "code",
      "source": [
        "for name, age, state, reg_no in Student_Details:\n",
        "  print(f\"{name:{10}} {age:{10}} {state:{20}} {reg_no:{20}}\")"
      ],
      "metadata": {
        "colab": {
          "base_uri": "https://localhost:8080/"
        },
        "id": "pQxuGWOpvrW7",
        "outputId": "f2dcc34a-4eb6-4736-bad7-f60c1054564e"
      },
      "execution_count": 5,
      "outputs": [
        {
          "output_type": "stream",
          "name": "stdout",
          "text": [
            "Name       Age        State                Reg NO              \n",
            "Rohit      22         Bihar                XXXXXXXXXX4848      \n",
            "Hari       25         Chhatishgarh         XXXXXXXXXX4889      \n",
            "Ram        19         Goa                  XXXXXXXXXX5483      \n"
          ]
        }
      ]
    },
    {
      "cell_type": "code",
      "source": [
        "for name, age, state, reg_no in Student_Details:\n",
        "  print(f\"{name:{10}} {age:{10}} {state:{20}} {reg_no:->{20}}\")"
      ],
      "metadata": {
        "colab": {
          "base_uri": "https://localhost:8080/"
        },
        "id": "5yJPgwv3v8j9",
        "outputId": "f32da5ab-c419-48af-9997-c446a5c70f50"
      },
      "execution_count": 7,
      "outputs": [
        {
          "output_type": "stream",
          "name": "stdout",
          "text": [
            "Name       Age        State                --------------Reg NO\n",
            "Rohit      22         Bihar                ------XXXXXXXXXX4848\n",
            "Hari       25         Chhatishgarh         ------XXXXXXXXXX4889\n",
            "Ram        19         Goa                  ------XXXXXXXXXX5483\n"
          ]
        }
      ]
    },
    {
      "cell_type": "markdown",
      "source": [
        "##Date"
      ],
      "metadata": {
        "id": "tIhpHGYPwcQf"
      }
    },
    {
      "cell_type": "code",
      "source": [
        "from datetime import datetime"
      ],
      "metadata": {
        "id": "67Oxq--WwhXt"
      },
      "execution_count": 9,
      "outputs": []
    },
    {
      "cell_type": "markdown",
      "source": [
        " [Different datetime cheatsheet](https://strftime.org/)"
      ],
      "metadata": {
        "id": "shHuo9DuxM4R"
      }
    },
    {
      "cell_type": "code",
      "source": [
        "today = datetime(year=2023, month= 5, day=7)\n",
        "print(f\"{today}\")"
      ],
      "metadata": {
        "colab": {
          "base_uri": "https://localhost:8080/"
        },
        "id": "W7NJ_ZACxMMS",
        "outputId": "96bc1e17-b345-4fd9-ab81-a42b6d1eaebd"
      },
      "execution_count": 11,
      "outputs": [
        {
          "output_type": "stream",
          "name": "stdout",
          "text": [
            "2023-05-07 00:00:00\n"
          ]
        }
      ]
    },
    {
      "cell_type": "code",
      "source": [
        "print(f\"{today:%A, %B, %d, %Y}\")"
      ],
      "metadata": {
        "colab": {
          "base_uri": "https://localhost:8080/"
        },
        "id": "ET7aOjYgFVvk",
        "outputId": "7a1859c5-f5d8-467a-c853-21068c012d30"
      },
      "execution_count": 14,
      "outputs": [
        {
          "output_type": "stream",
          "name": "stdout",
          "text": [
            "Sunday, May, 07, 2023\n"
          ]
        }
      ]
    },
    {
      "cell_type": "markdown",
      "source": [
        "# FILES"
      ],
      "metadata": {
        "id": "zrydU-L2F7uW"
      }
    },
    {
      "cell_type": "markdown",
      "source": [
        "##Text"
      ],
      "metadata": {
        "id": "Izkf5yICLrFM"
      }
    },
    {
      "cell_type": "markdown",
      "source": [
        "![files.PNG](data:image/png;base64,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)"
      ],
      "metadata": {
        "id": "8VBlz-OBKc2v"
      }
    },
    {
      "cell_type": "markdown",
      "source": [
        "'w+' - overwrite the file\n",
        "\n",
        "'a+' - create new file if not exist and in append mode "
      ],
      "metadata": {
        "id": "JqaecSlgKyZ6"
      }
    },
    {
      "cell_type": "code",
      "source": [
        "with open(\"text.txt\", 'w') as f:\n",
        "  f.write(\"This is a test file.\\n\")\n",
        "  f.write(\"This is second line of test file\")"
      ],
      "metadata": {
        "id": "RRQkc-jRHavK"
      },
      "execution_count": 26,
      "outputs": []
    },
    {
      "cell_type": "code",
      "source": [
        "#print working directory\n",
        "!pwd"
      ],
      "metadata": {
        "colab": {
          "base_uri": "https://localhost:8080/"
        },
        "id": "0DuX5MsYIgq8",
        "outputId": "f41646b3-b657-4e4e-bc80-cdbf4ecc18a4"
      },
      "execution_count": 18,
      "outputs": [
        {
          "output_type": "stream",
          "name": "stdout",
          "text": [
            "/content\n"
          ]
        }
      ]
    },
    {
      "cell_type": "code",
      "source": [
        "myfile = open(\"/content/text.txt\")"
      ],
      "metadata": {
        "id": "gDERFMv9IIiL"
      },
      "execution_count": 31,
      "outputs": []
    },
    {
      "cell_type": "code",
      "source": [
        "myfile.read()"
      ],
      "metadata": {
        "colab": {
          "base_uri": "https://localhost:8080/",
          "height": 35
        },
        "id": "79WbuUT7I4GJ",
        "outputId": "97b8a2a6-a9ae-46be-f13b-0c67af40de43"
      },
      "execution_count": 32,
      "outputs": [
        {
          "output_type": "execute_result",
          "data": {
            "text/plain": [
              "'This is a test file.\\nThis is second line of test file'"
            ],
            "application/vnd.google.colaboratory.intrinsic+json": {
              "type": "string"
            }
          },
          "metadata": {},
          "execution_count": 32
        }
      ]
    },
    {
      "cell_type": "code",
      "source": [
        "myfile.read() # Since the cursor is moded to the end"
      ],
      "metadata": {
        "colab": {
          "base_uri": "https://localhost:8080/",
          "height": 35
        },
        "id": "HAJyMlv_JVYF",
        "outputId": "d869dbab-df75-4748-e717-3fdadfc53e2e"
      },
      "execution_count": 33,
      "outputs": [
        {
          "output_type": "execute_result",
          "data": {
            "text/plain": [
              "''"
            ],
            "application/vnd.google.colaboratory.intrinsic+json": {
              "type": "string"
            }
          },
          "metadata": {},
          "execution_count": 33
        }
      ]
    },
    {
      "cell_type": "code",
      "source": [
        "myfile.seek(0)\n",
        "myfile.read()"
      ],
      "metadata": {
        "colab": {
          "base_uri": "https://localhost:8080/",
          "height": 35
        },
        "id": "R_fpy4fnJced",
        "outputId": "10208725-a7da-4802-9518-393860d717e5"
      },
      "execution_count": 34,
      "outputs": [
        {
          "output_type": "execute_result",
          "data": {
            "text/plain": [
              "'This is a test file.\\nThis is second line of test file'"
            ],
            "application/vnd.google.colaboratory.intrinsic+json": {
              "type": "string"
            }
          },
          "metadata": {},
          "execution_count": 34
        }
      ]
    },
    {
      "cell_type": "code",
      "source": [
        "myfile.seek(0)\n",
        "file_content = myfile.read()\n",
        "print(file_content)"
      ],
      "metadata": {
        "colab": {
          "base_uri": "https://localhost:8080/"
        },
        "id": "RjMM--bAJrLB",
        "outputId": "c658ed97-d1b4-4999-84eb-5e06691ba15c"
      },
      "execution_count": 35,
      "outputs": [
        {
          "output_type": "stream",
          "name": "stdout",
          "text": [
            "This is a test file.\n",
            "This is second line of test file\n"
          ]
        }
      ]
    },
    {
      "cell_type": "markdown",
      "source": [
        "##Pdf"
      ],
      "metadata": {
        "id": "j5Pm1EePLpIx"
      }
    },
    {
      "cell_type": "markdown",
      "source": [
        "**Not all pdf have text that can be extracted like scan PDF file whic have image**"
      ],
      "metadata": {
        "id": "q0HCNFyBL78Y"
      }
    },
    {
      "cell_type": "code",
      "source": [
        "!pip install PyPDF2 \n",
        "import PyPDF2"
      ],
      "metadata": {
        "colab": {
          "base_uri": "https://localhost:8080/"
        },
        "id": "Gmp2whJqL7XU",
        "outputId": "e1e836b5-9e00-4855-ab1d-a4d50e04d05d"
      },
      "execution_count": 36,
      "outputs": [
        {
          "output_type": "stream",
          "name": "stdout",
          "text": [
            "Looking in indexes: https://pypi.org/simple, https://us-python.pkg.dev/colab-wheels/public/simple/\n",
            "Collecting PyPDF2\n",
            "  Downloading pypdf2-3.0.1-py3-none-any.whl (232 kB)\n",
            "\u001b[2K     \u001b[90m━━━━━━━━━━━━━━━━━━━━━━━━━━━━━━━━━━━━━━━\u001b[0m \u001b[32m232.6/232.6 kB\u001b[0m \u001b[31m9.5 MB/s\u001b[0m eta \u001b[36m0:00:00\u001b[0m\n",
            "\u001b[?25hInstalling collected packages: PyPDF2\n",
            "Successfully installed PyPDF2-3.0.1\n"
          ]
        }
      ]
    },
    {
      "cell_type": "code",
      "source": [
        "with open(\"/content/US_Declaration.pdf\", 'rb') as myfile:    # rb - readbinary\n",
        "  pdf_reader = PyPDF2.PdfReader(myfile)\n",
        "  print(len(pdf_reader.pages))\n",
        "  first_page = pdf_reader.pages[0]\n",
        "  first_page_text = first_page.extract_text()"
      ],
      "metadata": {
        "colab": {
          "base_uri": "https://localhost:8080/"
        },
        "id": "R-QZriufLwb1",
        "outputId": "c9fba952-2cc4-48ca-b186-60696f759baf"
      },
      "execution_count": 71,
      "outputs": [
        {
          "output_type": "stream",
          "name": "stdout",
          "text": [
            "5\n"
          ]
        }
      ]
    },
    {
      "cell_type": "code",
      "source": [
        "first_page_text"
      ],
      "metadata": {
        "colab": {
          "base_uri": "https://localhost:8080/",
          "height": 174
        },
        "id": "UwH_3aMEPaWv",
        "outputId": "0290b561-3e91-4f6c-9aa5-9ca1f436b15b"
      },
      "execution_count": 72,
      "outputs": [
        {
          "output_type": "execute_result",
          "data": {
            "text/plain": [
              "\"Declaration of Independence\\nIN CONGRESS, July 4, 1776.  \\nThe unanimous Declaration of the thirteen united States of America,  \\nWhen in the Course of human events, it becomes necessary for one people to dissolve thepolitical bands which have connected them with another, and to assume among the powers of theearth, the separate and equal station to which the Laws of Nature and of Nature's God entitlethem, a decent respect to the opinions of mankind requires that they should declare the causeswhich impel them to the separation. We hold these truths to be self-evident, that all men are created equal, that they are endowed bytheir Creator with certain unalienable Rights, that among these are Life, Liberty and the pursuit\\nof Happiness.— \\x14That to secure these rights, Governments are instituted among Men, derivingtheir just powers from the consent of the governed,—  \\x14That whenever any Form of Government\\nbecomes destructive of these ends, it is the Right of the People to alter or to abolish it, and to\\ninstitute new Government, laying its foundation on such principles and organizing its powers in\\nsuch form, as to them shall seem most likely to effect their Safety and Happiness. Prudence,indeed, will dictate that Governments long established should not be changed for light andtransient causes; and accordingly all experience hath shewn, that mankind are more disposed to\\nsuffer, while evils are sufferable, than to right themselves by abolishing the forms to which theyare accustomed. But when a long train of abuses and usurpations, pursuing invariably the same\\nObject evinces a design to reduce them under absolute Despotism, it is their right, it is their duty,\\nto throw off such Government, and to provide new Guards for their future securit y.— \\x14Such has\\nbeen the patient sufferance of these Colonies; and such is now the necessity which constrainsthem to alter their former Systems of Government. The history of the present King of GreatBritain is a history of repeated injuries and usurpations, all having in direct object the\\nestablishment of an absolute Tyranny over these States. To prove this, let Facts be submitted to a\\ncandid world. \\nHe has refused his Assent to Laws, the most wholesome and necessary for the\\npublic good.He has forbidden his Governors to pass Laws of immediate and pressingimportance, unless suspended in their operation till his Assent should be obtained;and when so suspended, he has utterly neglected to attend to them.He has refused to pass other Laws for the accommodation of large districts of\\npeople, unless those people would relinquish the right of Representation in theLegislature, a right inestimable to them and formidable to tyrants only. He has called together legislative bodies at places unusual, uncomfortable, and distantfrom the depository of their public Records, for the sole purpose of fatiguing them into\\ncompliance with his measures.\""
            ],
            "application/vnd.google.colaboratory.intrinsic+json": {
              "type": "string"
            }
          },
          "metadata": {},
          "execution_count": 72
        }
      ]
    },
    {
      "cell_type": "code",
      "source": [
        "#Adding page to pdf\n",
        "f = open(\"/content/US_Declaration.pdf\", 'rb')\n",
        "pdf_reader = PyPDF2.PdfReader(f)\n",
        "first_page = pdf_reader.pages[0]\n",
        "pdf_writer = PyPDF2.PdfWriter()\n",
        "pdf_writer.add_page(first_page)"
      ],
      "metadata": {
        "id": "fyyiK1JFOVzA"
      },
      "execution_count": null,
      "outputs": []
    },
    {
      "cell_type": "code",
      "source": [
        "pdf_output = open(\"new_file.pdf\", 'wb')\n",
        "pdf_writer.write(pdf_output) "
      ],
      "metadata": {
        "colab": {
          "base_uri": "https://localhost:8080/"
        },
        "id": "KJu17jOtQ1XV",
        "outputId": "80d346fb-892c-4dde-aabb-ff2af4e3c939"
      },
      "execution_count": 74,
      "outputs": [
        {
          "output_type": "execute_result",
          "data": {
            "text/plain": [
              "(False, <_io.BufferedWriter name='new_file.pdf'>)"
            ]
          },
          "metadata": {},
          "execution_count": 74
        }
      ]
    },
    {
      "cell_type": "code",
      "source": [
        "pdf_output.close()\n",
        "f.close()"
      ],
      "metadata": {
        "id": "xLZifp3xSnut"
      },
      "execution_count": 75,
      "outputs": []
    },
    {
      "cell_type": "code",
      "source": [
        "new_file = open(\"/content/new_file.pdf\", 'rb')\n",
        "pdf_reader = PyPDF2.PdfReader(new_file)\n",
        "len(pdf_reader.pages)"
      ],
      "metadata": {
        "colab": {
          "base_uri": "https://localhost:8080/"
        },
        "id": "qqXRZS_GSi-7",
        "outputId": "ff39c61d-2513-48eb-9d15-879213cfad93"
      },
      "execution_count": 76,
      "outputs": [
        {
          "output_type": "execute_result",
          "data": {
            "text/plain": [
              "1"
            ]
          },
          "metadata": {},
          "execution_count": 76
        }
      ]
    },
    {
      "cell_type": "code",
      "source": [
        "new_file.close()"
      ],
      "metadata": {
        "id": "8BnMf9TyUiqB"
      },
      "execution_count": 77,
      "outputs": []
    },
    {
      "cell_type": "code",
      "source": [
        "#Reading all the text from a pdf file\n",
        "my_file = open(\"/content/US_Declaration.pdf\", 'rb')\n",
        "pdf_text = []                                      # For extracting text from apage and storing it into list\n",
        "pdf_reader = PyPDF2.PdfReader(my_file)\n",
        "for p_num in range(len(pdf_reader.pages)):\n",
        "  page = pdf_reader.pages[p_num]\n",
        "  text = page.extract_text()\n",
        "  pdf_text.append(text)\n",
        "  "
      ],
      "metadata": {
        "id": "BK2GWkvmUang"
      },
      "execution_count": 81,
      "outputs": []
    },
    {
      "cell_type": "code",
      "source": [
        "len(pdf_text)"
      ],
      "metadata": {
        "colab": {
          "base_uri": "https://localhost:8080/"
        },
        "id": "TbdnHs1bVuEE",
        "outputId": "422b32a8-ac3a-48a0-c4a7-5e6f44b25147"
      },
      "execution_count": 82,
      "outputs": [
        {
          "output_type": "execute_result",
          "data": {
            "text/plain": [
              "5"
            ]
          },
          "metadata": {},
          "execution_count": 82
        }
      ]
    },
    {
      "cell_type": "code",
      "source": [
        "pdf_text[0]"
      ],
      "metadata": {
        "colab": {
          "base_uri": "https://localhost:8080/",
          "height": 174
        },
        "id": "SVelBNYpVxR-",
        "outputId": "dc677547-a9f7-4672-d801-95471654398b"
      },
      "execution_count": 83,
      "outputs": [
        {
          "output_type": "execute_result",
          "data": {
            "text/plain": [
              "\"Declaration of Independence\\nIN CONGRESS, July 4, 1776.  \\nThe unanimous Declaration of the thirteen united States of America,  \\nWhen in the Course of human events, it becomes necessary for one people to dissolve thepolitical bands which have connected them with another, and to assume among the powers of theearth, the separate and equal station to which the Laws of Nature and of Nature's God entitlethem, a decent respect to the opinions of mankind requires that they should declare the causeswhich impel them to the separation. We hold these truths to be self-evident, that all men are created equal, that they are endowed bytheir Creator with certain unalienable Rights, that among these are Life, Liberty and the pursuit\\nof Happiness.— \\x14That to secure these rights, Governments are instituted among Men, derivingtheir just powers from the consent of the governed,—  \\x14That whenever any Form of Government\\nbecomes destructive of these ends, it is the Right of the People to alter or to abolish it, and to\\ninstitute new Government, laying its foundation on such principles and organizing its powers in\\nsuch form, as to them shall seem most likely to effect their Safety and Happiness. Prudence,indeed, will dictate that Governments long established should not be changed for light andtransient causes; and accordingly all experience hath shewn, that mankind are more disposed to\\nsuffer, while evils are sufferable, than to right themselves by abolishing the forms to which theyare accustomed. But when a long train of abuses and usurpations, pursuing invariably the same\\nObject evinces a design to reduce them under absolute Despotism, it is their right, it is their duty,\\nto throw off such Government, and to provide new Guards for their future securit y.— \\x14Such has\\nbeen the patient sufferance of these Colonies; and such is now the necessity which constrainsthem to alter their former Systems of Government. The history of the present King of GreatBritain is a history of repeated injuries and usurpations, all having in direct object the\\nestablishment of an absolute Tyranny over these States. To prove this, let Facts be submitted to a\\ncandid world. \\nHe has refused his Assent to Laws, the most wholesome and necessary for the\\npublic good.He has forbidden his Governors to pass Laws of immediate and pressingimportance, unless suspended in their operation till his Assent should be obtained;and when so suspended, he has utterly neglected to attend to them.He has refused to pass other Laws for the accommodation of large districts of\\npeople, unless those people would relinquish the right of Representation in theLegislature, a right inestimable to them and formidable to tyrants only. He has called together legislative bodies at places unusual, uncomfortable, and distantfrom the depository of their public Records, for the sole purpose of fatiguing them into\\ncompliance with his measures.\""
            ],
            "application/vnd.google.colaboratory.intrinsic+json": {
              "type": "string"
            }
          },
          "metadata": {},
          "execution_count": 83
        }
      ]
    },
    {
      "cell_type": "markdown",
      "source": [
        "## Regualar Expression"
      ],
      "metadata": {
        "id": "rTCjx7gOV12v"
      }
    },
    {
      "cell_type": "markdown",
      "source": [
        "**For Extraction of te email, pone number, date, time etc eichhave specific format from a document.**"
      ],
      "metadata": {
        "id": "4QLINuTdWXrc"
      }
    },
    {
      "cell_type": "code",
      "source": [
        "text = \"My phone number is 012-345-6789.Where is my phone\"\n",
        "\"phone\" in text"
      ],
      "metadata": {
        "colab": {
          "base_uri": "https://localhost:8080/"
        },
        "id": "KnZ-8HCNWvBt",
        "outputId": "e3d1f732-611a-46bc-c54f-33122fbbd4e2"
      },
      "execution_count": 90,
      "outputs": [
        {
          "output_type": "execute_result",
          "data": {
            "text/plain": [
              "True"
            ]
          },
          "metadata": {},
          "execution_count": 90
        }
      ]
    },
    {
      "cell_type": "code",
      "source": [
        "import re\n",
        "pattern = \"phone\"\n",
        "my_match = re.search(pattern, text)\n",
        "my_match   # it is only giving first match"
      ],
      "metadata": {
        "colab": {
          "base_uri": "https://localhost:8080/"
        },
        "id": "oNN5mw4AWkHQ",
        "outputId": "88422ba1-d0d9-4339-9c9e-d6b052cce115"
      },
      "execution_count": 91,
      "outputs": [
        {
          "output_type": "execute_result",
          "data": {
            "text/plain": [
              "<re.Match object; span=(3, 8), match='phone'>"
            ]
          },
          "metadata": {},
          "execution_count": 91
        }
      ]
    },
    {
      "cell_type": "code",
      "source": [
        "print(my_match.span())\n",
        "print(my_match.start())\n",
        "print(my_match.end())"
      ],
      "metadata": {
        "colab": {
          "base_uri": "https://localhost:8080/"
        },
        "id": "O9ftiSoNWXD6",
        "outputId": "1e3931f2-a365-408a-ec4d-95c58510ffdb"
      },
      "execution_count": 92,
      "outputs": [
        {
          "output_type": "stream",
          "name": "stdout",
          "text": [
            "(3, 8)\n",
            "3\n",
            "8\n"
          ]
        }
      ]
    },
    {
      "cell_type": "code",
      "source": [
        "all_match = re.findall(pattern, text)\n",
        "all_match"
      ],
      "metadata": {
        "colab": {
          "base_uri": "https://localhost:8080/"
        },
        "id": "ik7J0B-gWSCB",
        "outputId": "747caacb-3bec-4363-e094-04a7dcae5a02"
      },
      "execution_count": 95,
      "outputs": [
        {
          "output_type": "execute_result",
          "data": {
            "text/plain": [
              "['phone', 'phone']"
            ]
          },
          "metadata": {},
          "execution_count": 95
        }
      ]
    },
    {
      "cell_type": "code",
      "source": [
        "for m in re.finditer(pattern, text):\n",
        "  print(m.span()) "
      ],
      "metadata": {
        "colab": {
          "base_uri": "https://localhost:8080/"
        },
        "id": "TVyDS6paaDQk",
        "outputId": "2196964a-809c-4cbd-d53d-3f2ab378b03c"
      },
      "execution_count": 96,
      "outputs": [
        {
          "output_type": "stream",
          "name": "stdout",
          "text": [
            "(3, 8)\n",
            "(44, 49)\n"
          ]
        }
      ]
    },
    {
      "cell_type": "markdown",
      "source": [
        "**IDENTIFIERS**\n",
        "<table ><tr><th>Character</th><th>Description</th><th>Example Pattern Code</th><th >Exammple Match</th></tr>\n",
        "\n",
        "<tr ><td><span >\\d</span></td><td>A digit</td><td>file_\\d\\d</td><td>file_25</td></tr>\n",
        "\n",
        "<tr ><td><span >\\w</span></td><td>Alphanumeric</td><td>\\w-\\w\\w\\w</td><td>A-b_1</td></tr>\n",
        "\n",
        "\n",
        "\n",
        "<tr ><td><span >\\s</span></td><td>White space</td><td>a\\sb\\sc</td><td>a b c</td></tr>\n",
        "\n",
        "\n",
        "\n",
        "<tr ><td><span >\\D</span></td><td>A non digit</td><td>\\D\\D\\D</td><td>ABC</td></tr>\n",
        "\n",
        "<tr ><td><span >\\W</span></td><td>Non-alphanumeric</td><td>\\W\\W\\W\\W\\W</td><td>*-+=)</td></tr>\n",
        "\n",
        "<tr ><td><span >\\S</span></td><td>Non-whitespace</td><td>\\S\\S\\S\\S</td><td>Yoyo</td></tr></table>"
      ],
      "metadata": {
        "id": "cftYuYqdcXFW"
      }
    },
    {
      "cell_type": "code",
      "source": [
        "# Searching Phone number\n",
        "pattern = r'\\d\\d\\d-\\d\\d\\d-\\d\\d\\d\\d'\n",
        "phone_number = re.search(pattern, text)\n",
        "phone_number"
      ],
      "metadata": {
        "colab": {
          "base_uri": "https://localhost:8080/"
        },
        "id": "_C4m8xXzZ6e0",
        "outputId": "cdae51e7-1516-4601-8557-d6c2ab30bad2"
      },
      "execution_count": 97,
      "outputs": [
        {
          "output_type": "execute_result",
          "data": {
            "text/plain": [
              "<re.Match object; span=(19, 31), match='012-345-6789'>"
            ]
          },
          "metadata": {},
          "execution_count": 97
        }
      ]
    },
    {
      "cell_type": "code",
      "source": [
        "phone_number.group()"
      ],
      "metadata": {
        "colab": {
          "base_uri": "https://localhost:8080/",
          "height": 35
        },
        "id": "XMW9g8tUdQ7L",
        "outputId": "bfa2cdee-ca29-4ac9-f51c-7a6db5093d49"
      },
      "execution_count": 98,
      "outputs": [
        {
          "output_type": "execute_result",
          "data": {
            "text/plain": [
              "'012-345-6789'"
            ],
            "application/vnd.google.colaboratory.intrinsic+json": {
              "type": "string"
            }
          },
          "metadata": {},
          "execution_count": 98
        }
      ]
    },
    {
      "cell_type": "markdown",
      "source": [
        "**QUANTIFIERS**\n",
        "<table ><tr><th>Character</th><th>Description</th><th>Example Pattern Code</th><th >Exammple Match</th></tr>\n",
        "\n",
        "<tr ><td><span >+</span></td><td>Occurs one or more times</td><td>\tVersion \\w-\\w+</td><td>Version A-b1_1</td></tr>\n",
        "\n",
        "<tr ><td><span >{3}</span></td><td>Occurs exactly 3 times</td><td>\\D{3}</td><td>abc</td></tr>\n",
        "\n",
        "\n",
        "\n",
        "<tr ><td><span >{2,4}</span></td><td>Occurs 2 to 4 times</td><td>\\d{2,4}</td><td>123</td></tr>\n",
        "\n",
        "\n",
        "\n",
        "<tr ><td><span >{3,}</span></td><td>Occurs 3 or more</td><td>\\w{3,}</td><td>anycharacters</td></tr>\n",
        "\n",
        "<tr ><td><span >\\*</span></td><td>Occurs zero or more times</td><td>A\\*B\\*C*</td><td>AAACC</td></tr>\n",
        "\n",
        "<tr ><td><span >?</span></td><td>Once or none</td><td>plurals?</td><td>plural</td></tr></table>"
      ],
      "metadata": {
        "id": "pSI_0CI-d3Yk"
      }
    },
    {
      "cell_type": "code",
      "source": [
        "pattern = r'\\d{3}-\\d{3}-\\d{4}'\n",
        "phone_number = re.search(pattern, text)\n",
        "phone_number.group()"
      ],
      "metadata": {
        "colab": {
          "base_uri": "https://localhost:8080/",
          "height": 35
        },
        "id": "mBsKh3ktd2ok",
        "outputId": "057bd4a9-3690-4b71-e399-563ccba9a2fe"
      },
      "execution_count": 99,
      "outputs": [
        {
          "output_type": "execute_result",
          "data": {
            "text/plain": [
              "'012-345-6789'"
            ],
            "application/vnd.google.colaboratory.intrinsic+json": {
              "type": "string"
            }
          },
          "metadata": {},
          "execution_count": 99
        }
      ]
    },
    {
      "cell_type": "code",
      "source": [
        "#Grouping\n",
        "pattern = r'(\\d{3})-(\\d{3})-(\\d{4})'\n",
        "phone_number = re.search(pattern, text)\n",
        "phone_number.group()"
      ],
      "metadata": {
        "colab": {
          "base_uri": "https://localhost:8080/",
          "height": 35
        },
        "id": "5EfBwj8pfDIc",
        "outputId": "f4f7014e-6e57-4072-d737-f0f4f8faaf7e"
      },
      "execution_count": 100,
      "outputs": [
        {
          "output_type": "execute_result",
          "data": {
            "text/plain": [
              "'012-345-6789'"
            ],
            "application/vnd.google.colaboratory.intrinsic+json": {
              "type": "string"
            }
          },
          "metadata": {},
          "execution_count": 100
        }
      ]
    },
    {
      "cell_type": "code",
      "source": [
        "phone_number.group(1)"
      ],
      "metadata": {
        "colab": {
          "base_uri": "https://localhost:8080/",
          "height": 35
        },
        "id": "g-p7ig-VfPKl",
        "outputId": "561b8714-e143-4fca-ac24-4736991652f0"
      },
      "execution_count": 101,
      "outputs": [
        {
          "output_type": "execute_result",
          "data": {
            "text/plain": [
              "'012'"
            ],
            "application/vnd.google.colaboratory.intrinsic+json": {
              "type": "string"
            }
          },
          "metadata": {},
          "execution_count": 101
        }
      ]
    },
    {
      "cell_type": "code",
      "source": [
        "# Or\n",
        "re.search(r\"man|woman\",\"This man was here.\")"
      ],
      "metadata": {
        "colab": {
          "base_uri": "https://localhost:8080/"
        },
        "id": "-mECf2wdffUz",
        "outputId": "f0b85dee-d520-4170-d1f8-376d63d0ebd8"
      },
      "execution_count": 102,
      "outputs": [
        {
          "output_type": "execute_result",
          "data": {
            "text/plain": [
              "<re.Match object; span=(5, 8), match='man'>"
            ]
          },
          "metadata": {},
          "execution_count": 102
        }
      ]
    },
    {
      "cell_type": "code",
      "source": [
        "re.search(r\"man|woman\",\"This woman was here.\")"
      ],
      "metadata": {
        "colab": {
          "base_uri": "https://localhost:8080/"
        },
        "id": "lfWEXejAfq8-",
        "outputId": "b8c24847-3ca6-47eb-8c11-4b3ad60ccb09"
      },
      "execution_count": 103,
      "outputs": [
        {
          "output_type": "execute_result",
          "data": {
            "text/plain": [
              "<re.Match object; span=(5, 10), match='woman'>"
            ]
          },
          "metadata": {},
          "execution_count": 103
        }
      ]
    },
    {
      "cell_type": "code",
      "source": [
        "#Wildcard Char\n",
        "re.findall(r\".at\",\"The cat in the hat sat here.\")"
      ],
      "metadata": {
        "id": "DYcEhEi-gAOF"
      },
      "execution_count": null,
      "outputs": []
    },
    {
      "cell_type": "code",
      "source": [
        "# Sentence Ends with a number\n",
        "re.findall(r'\\d$','This ends with a number 2')"
      ],
      "metadata": {
        "colab": {
          "base_uri": "https://localhost:8080/"
        },
        "id": "ESjsPmAWgl_f",
        "outputId": "f65a0844-6460-4a79-d08c-bf17f6bc963d"
      },
      "execution_count": 104,
      "outputs": [
        {
          "output_type": "execute_result",
          "data": {
            "text/plain": [
              "['2']"
            ]
          },
          "metadata": {},
          "execution_count": 104
        }
      ]
    },
    {
      "cell_type": "code",
      "source": [
        "# Sentence Starts with a number\n",
        "re.findall(r'^\\d','1 is the loneliest number.')"
      ],
      "metadata": {
        "colab": {
          "base_uri": "https://localhost:8080/"
        },
        "id": "bvlQ_VvNgqQY",
        "outputId": "5a39ea77-93d1-4343-feb9-96a73ba78ee1"
      },
      "execution_count": 105,
      "outputs": [
        {
          "output_type": "execute_result",
          "data": {
            "text/plain": [
              "['1']"
            ]
          },
          "metadata": {},
          "execution_count": 105
        }
      ]
    },
    {
      "cell_type": "code",
      "source": [
        "#Exclusion\n",
        "phrase = \"there are 3 numbers 34 inside 5 this sentence.\"\n",
        "re.findall(r'[^\\d]+',phrase)"
      ],
      "metadata": {
        "colab": {
          "base_uri": "https://localhost:8080/"
        },
        "id": "_yQOZAe4hIyd",
        "outputId": "19628658-80ec-4898-9533-950abd5ac062"
      },
      "execution_count": 108,
      "outputs": [
        {
          "output_type": "execute_result",
          "data": {
            "text/plain": [
              "['there are ', ' numbers ', ' inside ', ' this sentence.']"
            ]
          },
          "metadata": {},
          "execution_count": 108
        }
      ]
    },
    {
      "cell_type": "code",
      "source": [
        "test_phrase = 'This is a string! But it has punctuation. How can we remove it?'\n",
        "re.findall('[^!.? ]+',test_phrase)"
      ],
      "metadata": {
        "colab": {
          "base_uri": "https://localhost:8080/"
        },
        "id": "c0NL6u-2hotF",
        "outputId": "179aa727-9f74-4120-d51b-1a215dcb3708"
      },
      "execution_count": 109,
      "outputs": [
        {
          "output_type": "execute_result",
          "data": {
            "text/plain": [
              "['This',\n",
              " 'is',\n",
              " 'a',\n",
              " 'string',\n",
              " 'But',\n",
              " 'it',\n",
              " 'has',\n",
              " 'punctuation',\n",
              " 'How',\n",
              " 'can',\n",
              " 'we',\n",
              " 'remove',\n",
              " 'it']"
            ]
          },
          "metadata": {},
          "execution_count": 109
        }
      ]
    },
    {
      "cell_type": "code",
      "source": [
        "' '.join(re.findall('[^!.? ]+',test_phrase))"
      ],
      "metadata": {
        "colab": {
          "base_uri": "https://localhost:8080/",
          "height": 35
        },
        "id": "GjfCjAjahvAM",
        "outputId": "89f289df-cfbb-40b0-ccea-9cacc354499e"
      },
      "execution_count": 112,
      "outputs": [
        {
          "output_type": "execute_result",
          "data": {
            "text/plain": [
              "'This is a string But it has punctuation How can we remove it'"
            ],
            "application/vnd.google.colaboratory.intrinsic+json": {
              "type": "string"
            }
          },
          "metadata": {},
          "execution_count": 112
        }
      ]
    },
    {
      "cell_type": "code",
      "source": [
        "text = 'Only find the hypen-words in this sentence. But you do not know how long-ish they are'\n",
        "re.findall(r'[\\w]+-[\\w]+',text)"
      ],
      "metadata": {
        "colab": {
          "base_uri": "https://localhost:8080/"
        },
        "id": "W43yzB5qiW9X",
        "outputId": "e6d10ebd-79c5-4965-a80c-9b782fedb6ca"
      },
      "execution_count": 113,
      "outputs": [
        {
          "output_type": "execute_result",
          "data": {
            "text/plain": [
              "['hypen-words', 'long-ish']"
            ]
          },
          "metadata": {},
          "execution_count": 113
        }
      ]
    },
    {
      "cell_type": "code",
      "source": [
        "#pattern for email\n",
        "pattern = r\"\\w+@\\w+.\\w+\""
      ],
      "metadata": {
        "id": "6FHdekuGpkGR"
      },
      "execution_count": 114,
      "outputs": []
    }
  ]
}