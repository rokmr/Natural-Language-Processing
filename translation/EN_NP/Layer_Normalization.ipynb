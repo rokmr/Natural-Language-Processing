{
  "cells": [
    {
      "cell_type": "markdown",
      "metadata": {},
      "source": [
        "# BATCH NORM"
      ]
    },
    {
      "cell_type": "markdown",
      "metadata": {},
      "source": [
        "![LN_BN](images/BN_LN.jpeg)\n",
        "![BN](images/BatchNorm.png)\n",
        "![BN_Eqn](images/BatchNorm_Eqn.jpeg)\n",
        "![Limitation](images/Limitation_BN.jpeg)\n"
      ]
    },
    {
      "cell_type": "markdown",
      "metadata": {},
      "source": [
        "# Layer Normalization"
      ]
    },
    {
      "cell_type": "markdown",
      "metadata": {},
      "source": [
        "![LN](images/LN.png)\n",
        "![LN_Eqn](images/LN_Eqn.jpeg)\n",
        "![BN_vs_LN](images/BN_vs_LN.jpeg)\n",
        "![Layer Norm](images/LayerNorm.jpeg)"
      ]
    },
    {
      "cell_type": "markdown",
      "metadata": {},
      "source": [
        "# CODE for LN"
      ]
    },
    {
      "cell_type": "code",
      "execution_count": 3,
      "metadata": {},
      "outputs": [],
      "source": [
        "import torch\n",
        "from torch import nn"
      ]
    },
    {
      "cell_type": "code",
      "execution_count": 21,
      "metadata": {},
      "outputs": [
        {
          "name": "stdout",
          "output_type": "stream",
          "text": [
            "B=1, S=3, E=4\n",
            "inputs: tensor([[[1., 3., 5., 7.]],\n",
            "\n",
            "        [[3., 4., 6., 2.]],\n",
            "\n",
            "        [[8., 3., 2., 1.]]])\n"
          ]
        },
        {
          "data": {
            "text/plain": [
              "torch.Size([3, 1, 4])"
            ]
          },
          "execution_count": 21,
          "metadata": {},
          "output_type": "execute_result"
        }
      ],
      "source": [
        "# B = Batch size, S = Sequence length, E = embedding dimension\n",
        "inputs = torch.Tensor([[[1, 3, 5, 7], [3, 4, 6, 2], [8, 3, 2, 1]]])\n",
        "B, S, E = inputs.size()\n",
        "print(f\"{B=}, {S=}, {E=}\")\n",
        "inputs = inputs.reshape(S, B, E)\n",
        "print(f\"inputs: {inputs}\")\n",
        "inputs.size()"
      ]
    },
    {
      "cell_type": "code",
      "execution_count": 22,
      "metadata": {},
      "outputs": [
        {
          "name": "stdout",
          "output_type": "stream",
          "text": [
            "parameter_shape: torch.Size([1, 4])\n"
          ]
        }
      ],
      "source": [
        "parameter_shape = inputs.size()[-2:]          # Last two dimensions i.e., B and E\n",
        "print(f\"parameter_shape: {parameter_shape}\")  # parameter_shape: torch.Size([1, 4])\n",
        "gamma = nn.Parameter(torch.ones(parameter_shape))\n",
        "beta =  nn.Parameter(torch.zeros(parameter_shape))"
      ]
    },
    {
      "cell_type": "code",
      "execution_count": 23,
      "metadata": {
        "colab": {
          "base_uri": "https://localhost:8080/"
        },
        "id": "YAhmuOruKYzO",
        "outputId": "755d29b3-cfcf-42d0-ccce-6ffb09efd696"
      },
      "outputs": [
        {
          "data": {
            "text/plain": [
              "(torch.Size([1, 4]), torch.Size([1, 4]))"
            ]
          },
          "execution_count": 23,
          "metadata": {},
          "output_type": "execute_result"
        }
      ],
      "source": [
        "gamma.size(), beta.size()"
      ]
    },
    {
      "cell_type": "code",
      "execution_count": 24,
      "metadata": {},
      "outputs": [
        {
          "data": {
            "text/plain": [
              "tensor([[7.],\n",
              "        [2.],\n",
              "        [1.]])"
            ]
          },
          "execution_count": 24,
          "metadata": {},
          "output_type": "execute_result"
        }
      ],
      "source": []
    },
    {
      "cell_type": "code",
      "execution_count": 14,
      "metadata": {
        "id": "85ajY22cJ5Bg"
      },
      "outputs": [],
      "source": [
        "dims = [-(i + 1) for i in range(len(parameter_shape))]  "
      ]
    },
    {
      "cell_type": "code",
      "execution_count": 8,
      "metadata": {
        "colab": {
          "base_uri": "https://localhost:8080/"
        },
        "id": "APG-ccQ1J4zc",
        "outputId": "5c2ad65e-9740-42b5-bfd2-dfa7ed3fc24a"
      },
      "outputs": [
        {
          "data": {
            "text/plain": [
              "[-1, -2]"
            ]
          },
          "execution_count": 8,
          "metadata": {},
          "output_type": "execute_result"
        }
      ],
      "source": [
        "dims"
      ]
    },
    {
      "cell_type": "code",
      "execution_count": 25,
      "metadata": {
        "colab": {
          "base_uri": "https://localhost:8080/"
        },
        "id": "Py8DHV7AMX6y",
        "outputId": "a897c5fc-a53c-497e-faae-c1c6cee49098"
      },
      "outputs": [
        {
          "data": {
            "text/plain": [
              "torch.Size([3, 1, 1])"
            ]
          },
          "execution_count": 25,
          "metadata": {},
          "output_type": "execute_result"
        }
      ],
      "source": [
        "mean = inputs.mean(dim=dims, keepdim=True) # mean along feature dimension\n",
        "mean.size()"
      ]
    },
    {
      "cell_type": "code",
      "execution_count": 26,
      "metadata": {
        "colab": {
          "base_uri": "https://localhost:8080/"
        },
        "id": "P4w9NIUPQRj-",
        "outputId": "97fca7ec-f26b-4429-ff4c-197ac2c5d970"
      },
      "outputs": [
        {
          "data": {
            "text/plain": [
              "tensor([[[4.0000]],\n",
              "\n",
              "        [[3.7500]],\n",
              "\n",
              "        [[3.5000]]])"
            ]
          },
          "execution_count": 26,
          "metadata": {},
          "output_type": "execute_result"
        }
      ],
      "source": [
        "mean"
      ]
    },
    {
      "cell_type": "code",
      "execution_count": 27,
      "metadata": {
        "colab": {
          "base_uri": "https://localhost:8080/"
        },
        "id": "1lEkVVi3M_8_",
        "outputId": "f4e2a32b-d5ed-4622-8923-eb380d5b5bfc"
      },
      "outputs": [
        {
          "data": {
            "text/plain": [
              "tensor([[[2.2361]],\n",
              "\n",
              "        [[1.4790]],\n",
              "\n",
              "        [[2.6926]]])"
            ]
          },
          "execution_count": 27,
          "metadata": {},
          "output_type": "execute_result"
        }
      ],
      "source": [
        "var = ((inputs - mean) ** 2).mean(dim=dims, keepdim=True)\n",
        "epsilon = 1e-5\n",
        "std = (var + epsilon).sqrt()\n",
        "std"
      ]
    },
    {
      "cell_type": "code",
      "execution_count": 28,
      "metadata": {
        "colab": {
          "base_uri": "https://localhost:8080/"
        },
        "id": "rRokYqlDN6yJ",
        "outputId": "f6dcbaf3-ad33-4d9f-e0ec-039e49424e4a"
      },
      "outputs": [
        {
          "data": {
            "text/plain": [
              "tensor([[[-1.3416, -0.4472,  0.4472,  1.3416]],\n",
              "\n",
              "        [[-0.5071,  0.1690,  1.5213, -1.1832]],\n",
              "\n",
              "        [[ 1.6713, -0.1857, -0.5571, -0.9285]]])"
            ]
          },
          "execution_count": 28,
          "metadata": {},
          "output_type": "execute_result"
        }
      ],
      "source": [
        "y = (inputs - mean) / std\n",
        "y"
      ]
    },
    {
      "cell_type": "code",
      "execution_count": 29,
      "metadata": {
        "id": "7cc8NMZVN_sQ"
      },
      "outputs": [],
      "source": [
        "out = gamma * y + beta"
      ]
    },
    {
      "cell_type": "code",
      "execution_count": 30,
      "metadata": {
        "colab": {
          "base_uri": "https://localhost:8080/"
        },
        "id": "YquX9ABbOLKy",
        "outputId": "1bc33d96-e9e5-4a5d-e3cc-4cb9c89cea22"
      },
      "outputs": [
        {
          "data": {
            "text/plain": [
              "tensor([[[-1.3416, -0.4472,  0.4472,  1.3416]],\n",
              "\n",
              "        [[-0.5071,  0.1690,  1.5213, -1.1832]],\n",
              "\n",
              "        [[ 1.6713, -0.1857, -0.5571, -0.9285]]], grad_fn=<AddBackward0>)"
            ]
          },
          "execution_count": 30,
          "metadata": {},
          "output_type": "execute_result"
        }
      ],
      "source": [
        "out"
      ]
    },
    {
      "cell_type": "markdown",
      "metadata": {
        "id": "BO4x-axkv9j8"
      },
      "source": [
        "## Class"
      ]
    },
    {
      "cell_type": "code",
      "execution_count": 35,
      "metadata": {
        "id": "MYJ2AE7Sv-Wc"
      },
      "outputs": [],
      "source": [
        "import torch\n",
        "from torch import nn\n",
        "\n",
        "class LayerNormalization():\n",
        "    def __init__(self, parameters_shape, eps=1e-5):\n",
        "        self.parameters_shape=parameters_shape\n",
        "        self.eps=eps\n",
        "        self.gamma = nn.Parameter(torch.ones(parameters_shape))\n",
        "        self.beta =  nn.Parameter(torch.zeros(parameters_shape))\n",
        "\n",
        "    def forward(self, input):\n",
        "        dims = [-(i + 1) for i in range(len(self.parameters_shape))]\n",
        "        mean = inputs.mean(dim=dims, keepdim=True)\n",
        "        print(f\"Mean \\n ({mean.size()}): \\n {mean}\")\n",
        "        var = ((inputs - mean) ** 2).mean(dim=dims, keepdim=True)\n",
        "        std = (var + self.eps).sqrt()\n",
        "        print(f\"Standard Deviation \\n ({std.size()}): \\n {std}\")\n",
        "        y = (inputs - mean) / std\n",
        "        print(f\"y \\n ({y.size()}) = \\n {y}\")\n",
        "        out = self.gamma * y  + self.beta\n",
        "        print(f\"out \\n ({out.size()}) = \\n {out}\")\n",
        "        return out"
      ]
    },
    {
      "cell_type": "code",
      "execution_count": 32,
      "metadata": {
        "colab": {
          "base_uri": "https://localhost:8080/"
        },
        "id": "zrnZx0HYyoRz",
        "outputId": "7d894aa6-6181-4597-b160-a932fc274d70"
      },
      "outputs": [
        {
          "name": "stdout",
          "output_type": "stream",
          "text": [
            "input \n",
            " (torch.Size([3, 5, 4])) = \n",
            " tensor([[[-0.6704,  1.7031,  1.3378,  0.5833],\n",
            "         [ 0.1546,  0.2288, -0.3751,  0.2744],\n",
            "         [-0.0678,  1.2969, -1.3091, -0.4520],\n",
            "         [ 0.7685, -0.6087, -0.0037, -0.1917],\n",
            "         [-0.9480,  0.7051,  0.9688,  0.0346]],\n",
            "\n",
            "        [[ 0.2190,  0.6910, -0.5335, -1.0923],\n",
            "         [-1.4141,  0.4817, -0.4755, -0.7524],\n",
            "         [-0.8872, -0.9566, -1.0666, -0.7134],\n",
            "         [-1.1805, -0.4164,  0.3994, -0.4730],\n",
            "         [ 0.7336,  1.0893,  0.9216, -1.6269]],\n",
            "\n",
            "        [[-0.3296,  0.8377, -0.9043, -0.5067],\n",
            "         [-0.3818,  0.4713,  0.8439,  0.4572],\n",
            "         [ 0.6249, -0.2641,  0.1295, -0.8046],\n",
            "         [-0.5721,  0.5586, -1.5924, -0.3381],\n",
            "         [ 1.2902,  1.5171, -1.0928,  0.0590]]])\n"
          ]
        }
      ],
      "source": [
        "batch_size = 5\n",
        "sentence_length = 3\n",
        "embedding_dim = 4 \n",
        "inputs = torch.randn(sentence_length, batch_size, embedding_dim)\n",
        "\n",
        "print(f\"input \\n ({inputs.size()}) = \\n {inputs}\")"
      ]
    },
    {
      "cell_type": "code",
      "execution_count": 33,
      "metadata": {},
      "outputs": [
        {
          "data": {
            "text/plain": [
              "torch.Size([4])"
            ]
          },
          "execution_count": 33,
          "metadata": {},
          "output_type": "execute_result"
        }
      ],
      "source": [
        "inputs.size()[-1:]"
      ]
    },
    {
      "cell_type": "code",
      "execution_count": 36,
      "metadata": {
        "id": "3U3akvkFys68"
      },
      "outputs": [],
      "source": [
        "layer_norm = LayerNormalization(inputs.size()[-1:])"
      ]
    },
    {
      "cell_type": "code",
      "execution_count": null,
      "metadata": {},
      "outputs": [],
      "source": []
    },
    {
      "cell_type": "code",
      "execution_count": 37,
      "metadata": {
        "colab": {
          "base_uri": "https://localhost:8080/"
        },
        "id": "JQ9lt7LUy-g9",
        "outputId": "658ed727-ec37-4eee-fef8-e553cb084e88"
      },
      "outputs": [
        {
          "name": "stdout",
          "output_type": "stream",
          "text": [
            "Mean \n",
            " (torch.Size([3, 5, 1])): \n",
            " tensor([[[ 0.7384],\n",
            "         [ 0.0707],\n",
            "         [-0.1330],\n",
            "         [-0.0089],\n",
            "         [ 0.1901]],\n",
            "\n",
            "        [[-0.1790],\n",
            "         [-0.5401],\n",
            "         [-0.9059],\n",
            "         [-0.4176],\n",
            "         [ 0.2794]],\n",
            "\n",
            "        [[-0.2257],\n",
            "         [ 0.3476],\n",
            "         [-0.0786],\n",
            "         [-0.4860],\n",
            "         [ 0.4434]]])\n",
            "Standard Deviation \n",
            " (torch.Size([3, 5, 1])): \n",
            " tensor([[[0.9081],\n",
            "         [0.2609],\n",
            "         [0.9399],\n",
            "         [0.4994],\n",
            "         [0.7401]],\n",
            "\n",
            "        [[0.6847],\n",
            "         [0.6814],\n",
            "         [0.1283],\n",
            "         [0.5596],\n",
            "         [1.1078]],\n",
            "\n",
            "        [[0.6483],\n",
            "         [0.4488],\n",
            "         [0.5243],\n",
            "         [0.7656],\n",
            "         [1.0461]]])\n",
            "y \n",
            " (torch.Size([3, 5, 4])) = \n",
            " tensor([[[-1.5514,  1.0622,  0.6600, -0.1709],\n",
            "         [ 0.3217,  0.6059, -1.7085,  0.7809],\n",
            "         [ 0.0694,  1.5213, -1.2513, -0.3394],\n",
            "         [ 1.5567, -1.2011,  0.0104, -0.3660],\n",
            "         [-1.5378,  0.6958,  1.0521, -0.2101]],\n",
            "\n",
            "        [[ 0.5812,  1.2706, -0.5179, -1.3340],\n",
            "         [-1.2827,  1.4995,  0.0948, -0.3115],\n",
            "         [ 0.1462, -0.3946, -1.2523,  1.5007],\n",
            "         [-1.3633,  0.0022,  1.4600, -0.0989],\n",
            "         [ 0.4100,  0.7311,  0.5798, -1.7208]],\n",
            "\n",
            "        [[-0.1602,  1.6403, -1.0468, -0.4334],\n",
            "         [-1.6253,  0.2755,  1.1057,  0.2441],\n",
            "         [ 1.3416, -0.3539,  0.3969, -1.3846],\n",
            "         [-0.1125,  1.3644, -1.4451,  0.1932],\n",
            "         [ 0.8095,  1.0264, -1.4684, -0.3674]]])\n",
            "out \n",
            " (torch.Size([3, 5, 4])) = \n",
            " tensor([[[-1.5514,  1.0622,  0.6600, -0.1709],\n",
            "         [ 0.3217,  0.6059, -1.7085,  0.7809],\n",
            "         [ 0.0694,  1.5213, -1.2513, -0.3394],\n",
            "         [ 1.5567, -1.2011,  0.0104, -0.3660],\n",
            "         [-1.5378,  0.6958,  1.0521, -0.2101]],\n",
            "\n",
            "        [[ 0.5812,  1.2706, -0.5179, -1.3340],\n",
            "         [-1.2827,  1.4995,  0.0948, -0.3115],\n",
            "         [ 0.1462, -0.3946, -1.2523,  1.5007],\n",
            "         [-1.3633,  0.0022,  1.4600, -0.0989],\n",
            "         [ 0.4100,  0.7311,  0.5798, -1.7208]],\n",
            "\n",
            "        [[-0.1602,  1.6403, -1.0468, -0.4334],\n",
            "         [-1.6253,  0.2755,  1.1057,  0.2441],\n",
            "         [ 1.3416, -0.3539,  0.3969, -1.3846],\n",
            "         [-0.1125,  1.3644, -1.4451,  0.1932],\n",
            "         [ 0.8095,  1.0264, -1.4684, -0.3674]]], grad_fn=<AddBackward0>)\n"
          ]
        }
      ],
      "source": [
        "out = layer_norm.forward(inputs)"
      ]
    },
    {
      "cell_type": "code",
      "execution_count": 38,
      "metadata": {
        "colab": {
          "base_uri": "https://localhost:8080/"
        },
        "id": "TSUGdHwL6yD2",
        "outputId": "e38f4032-4a80-477c-d0d7-ff64fe0b13e9"
      },
      "outputs": [
        {
          "data": {
            "text/plain": [
              "(tensor(7.4506e-09, grad_fn=<MeanBackward0>),\n",
              " tensor(1.0260, grad_fn=<StdBackward0>))"
            ]
          },
          "execution_count": 38,
          "metadata": {},
          "output_type": "execute_result"
        }
      ],
      "source": [
        "out[0].mean(), out[0].std()"
      ]
    },
    {
      "cell_type": "code",
      "execution_count": null,
      "metadata": {},
      "outputs": [],
      "source": []
    }
  ],
  "metadata": {
    "colab": {
      "provenance": []
    },
    "kernelspec": {
      "display_name": "DLNLP",
      "language": "python",
      "name": "dlnlp"
    },
    "language_info": {
      "codemirror_mode": {
        "name": "ipython",
        "version": 3
      },
      "file_extension": ".py",
      "mimetype": "text/x-python",
      "name": "python",
      "nbconvert_exporter": "python",
      "pygments_lexer": "ipython3",
      "version": "3.11.4"
    }
  },
  "nbformat": 4,
  "nbformat_minor": 0
}
