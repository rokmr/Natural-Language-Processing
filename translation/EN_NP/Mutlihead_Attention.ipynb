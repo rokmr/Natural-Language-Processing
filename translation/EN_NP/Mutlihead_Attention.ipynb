{
  "cells": [
    {
      "cell_type": "markdown",
      "metadata": {
        "id": "3SvxpyUxQmqP"
      },
      "source": [
        "## Multi Head Attention"
      ]
    },
    {
      "cell_type": "code",
      "execution_count": 1,
      "metadata": {
        "id": "gqzOybgA6tDz"
      },
      "outputs": [],
      "source": [
        "import numpy as np\n",
        "import torch\n",
        "import torch.nn as nn\n",
        "import torch.nn.functional as F"
      ]
    },
    {
      "cell_type": "code",
      "execution_count": 2,
      "metadata": {
        "id": "a2NI4FSG8JY2"
      },
      "outputs": [],
      "source": [
        "sequence_length = 3\n",
        "batch_size = 1\n",
        "input_dim = 512\n",
        "d_model = 512\n",
        "x = torch.randn( (batch_size, sequence_length, input_dim) )"
      ]
    },
    {
      "cell_type": "code",
      "execution_count": 3,
      "metadata": {
        "colab": {
          "base_uri": "https://localhost:8080/"
        },
        "id": "3RII2sE0iuSh",
        "outputId": "adc44ac9-82c0-4fc1-f6ac-13da59a079e4"
      },
      "outputs": [
        {
          "data": {
            "text/plain": [
              "torch.Size([1, 3, 512])"
            ]
          },
          "execution_count": 3,
          "metadata": {},
          "output_type": "execute_result"
        }
      ],
      "source": [
        "x.size()"
      ]
    },
    {
      "cell_type": "code",
      "execution_count": 4,
      "metadata": {
        "id": "xojRX8Q5jTfY"
      },
      "outputs": [],
      "source": [
        "qkv_layer = nn.Linear(input_dim , 3 * d_model)"
      ]
    },
    {
      "cell_type": "code",
      "execution_count": 5,
      "metadata": {
        "id": "tnwj8NFTkWHC"
      },
      "outputs": [],
      "source": [
        "qkv = qkv_layer(x)"
      ]
    },
    {
      "cell_type": "code",
      "execution_count": 6,
      "metadata": {
        "colab": {
          "base_uri": "https://localhost:8080/"
        },
        "id": "HICI_ofJk66H",
        "outputId": "83151566-80b1-4718-cabb-137cdb3eaf09"
      },
      "outputs": [
        {
          "data": {
            "text/plain": [
              "torch.Size([1, 3, 1536])"
            ]
          },
          "execution_count": 6,
          "metadata": {},
          "output_type": "execute_result"
        }
      ],
      "source": [
        "qkv.shape"
      ]
    },
    {
      "cell_type": "code",
      "execution_count": 7,
      "metadata": {
        "colab": {
          "base_uri": "https://localhost:8080/",
          "height": 298
        },
        "id": "Q2B8dXUlkkEE",
        "outputId": "fa91dc19-80e5-4ac8-b47b-41a1b36db856"
      },
      "outputs": [
        {
          "data": {
            "text/plain": [
              "Text(0.5, 1.0, 'qkv distribution')"
            ]
          },
          "execution_count": 7,
          "metadata": {},
          "output_type": "execute_result"
        },
        {
          "data": {
            "image/png": "[encoded data removed]",
            "text/plain": [
              "<Figure size 640x480 with 1 Axes>"
            ]
          },
          "metadata": {},
          "output_type": "display_data"
        }
      ],
      "source": [
        "import matplotlib.pyplot as plt\n",
        "y_val = torch.histc(qkv, bins=200, min=-3, max=3)\n",
        "x_val = np.arange(-1, 1, 0.01) * 3\n",
        "plt.bar(x_val, y_val, align='center', color=['forestgreen'])\n",
        "plt.title('qkv distribution')"
      ]
    },
    {
      "cell_type": "code",
      "execution_count": 8,
      "metadata": {
        "id": "1jJM7kC4jilO"
      },
      "outputs": [],
      "source": [
        "num_heads = 8\n",
        "head_dim = d_model // num_heads\n",
        "qkv = qkv.reshape(batch_size, sequence_length, num_heads, 3 * head_dim)"
      ]
    },
    {
      "cell_type": "code",
      "execution_count": 9,
      "metadata": {
        "colab": {
          "base_uri": "https://localhost:8080/"
        },
        "id": "SEXecxu5i9NA",
        "outputId": "b629f4d6-ec64-4f5e-937f-4c3e372f6af1"
      },
      "outputs": [
        {
          "data": {
            "text/plain": [
              "torch.Size([1, 3, 8, 192])"
            ]
          },
          "execution_count": 9,
          "metadata": {},
          "output_type": "execute_result"
        }
      ],
      "source": [
        "qkv.shape"
      ]
    },
    {
      "cell_type": "code",
      "execution_count": 10,
      "metadata": {
        "colab": {
          "base_uri": "https://localhost:8080/"
        },
        "id": "kAqTTEP9q59y",
        "outputId": "cef8f870-b4fb-44b9-aaba-e71e4fc2801a"
      },
      "outputs": [
        {
          "data": {
            "text/plain": [
              "torch.Size([1, 8, 3, 192])"
            ]
          },
          "execution_count": 10,
          "metadata": {},
          "output_type": "execute_result"
        }
      ],
      "source": [
        "qkv = qkv.permute(0, 2, 1, 3) # [batch_size, num_heads, sequence_length, 3*head_dim]\n",
        "qkv.shape"
      ]
    },
    {
      "cell_type": "code",
      "execution_count": 11,
      "metadata": {
        "colab": {
          "base_uri": "https://localhost:8080/"
        },
        "id": "BJd52g7CrCqy",
        "outputId": "18f3ad8f-012d-4169-fa45-e6c8466d1795"
      },
      "outputs": [
        {
          "data": {
            "text/plain": [
              "(torch.Size([1, 8, 3, 64]),\n",
              " torch.Size([1, 8, 3, 64]),\n",
              " torch.Size([1, 8, 3, 64]))"
            ]
          },
          "execution_count": 11,
          "metadata": {},
          "output_type": "execute_result"
        }
      ],
      "source": [
        "q, k, v = qkv.chunk(3, dim=-1)\n",
        "q.shape, k.shape, v.shape"
      ]
    },
    {
      "cell_type": "markdown",
      "metadata": {
        "id": "EJrxi4wdTPYO"
      },
      "source": []
    },
    {
      "cell_type": "markdown",
      "metadata": {
        "id": "TUcuHtRt8H4x"
      },
      "source": [
        "## Self Attention for multiple heads"
      ]
    },
    {
      "cell_type": "markdown",
      "metadata": {
        "id": "X5OYtIzMQ7iI"
      },
      "source": [
        "For a single head:\n",
        "$$\n",
        "\\text{self attention} = softmax\\bigg(\\frac{Q.K^T}{\\sqrt{d_k}}+M\\bigg)\n",
        "$$\n",
        "\n",
        "$$\n",
        "\\text{new V} = \\text{self attention}.V\n",
        "$$ "
      ]
    },
    {
      "cell_type": "code",
      "execution_count": 17,
      "metadata": {},
      "outputs": [
        {
          "data": {
            "text/plain": [
              "torch.Size([1, 8, 3, 64])"
            ]
          },
          "execution_count": 17,
          "metadata": {},
          "output_type": "execute_result"
        }
      ],
      "source": [
        "k.shape"
      ]
    },
    {
      "cell_type": "code",
      "execution_count": 18,
      "metadata": {},
      "outputs": [
        {
          "data": {
            "text/plain": [
              "torch.Size([1, 8, 64, 3])"
            ]
          },
          "execution_count": 18,
          "metadata": {},
          "output_type": "execute_result"
        }
      ],
      "source": [
        "k.transpose(-2, -1).shape"
      ]
    },
    {
      "cell_type": "code",
      "execution_count": 13,
      "metadata": {
        "colab": {
          "base_uri": "https://localhost:8080/"
        },
        "id": "ywffyzop0pF-",
        "outputId": "5420219e-e438-4b9d-e0df-273ba9c5915d"
      },
      "outputs": [
        {
          "data": {
            "text/plain": [
              "torch.Size([1, 8, 3, 3])"
            ]
          },
          "execution_count": 13,
          "metadata": {},
          "output_type": "execute_result"
        }
      ],
      "source": [
        "d_k = q.size()[-1]\n",
        "scaled = torch.matmul(q, k.transpose(-2, -1)) / np.sqrt(d_k) # [batch_size, num_heads, sequence_length, sequence_length]\n",
        "scaled.shape"
      ]
    },
    {
      "cell_type": "code",
      "execution_count": 19,
      "metadata": {
        "colab": {
          "base_uri": "https://localhost:8080/"
        },
        "id": "JIuhWR8TTGeO",
        "outputId": "3af47f70-a8c0-43f8-edb5-f2dcae5d957b"
      },
      "outputs": [
        {
          "name": "stderr",
          "output_type": "stream",
          "text": [
            "/tmp/ipykernel_2133014/3717780648.py:1: UserWarning: The use of `x.T` on tensors of dimension other than 2 to reverse their shape is deprecated and it will throw an error in a future release. Consider `x.mT` to transpose batches of matrices or `x.permute(*torch.arange(x.ndim - 1, -1, -1))` to reverse the dimensions of a tensor. (Triggered internally at ../aten/src/ATen/native/TensorShape.cpp:3614.)\n",
            "  k.T.shape\n"
          ]
        },
        {
          "data": {
            "text/plain": [
              "torch.Size([64, 3, 8, 1])"
            ]
          },
          "execution_count": 19,
          "metadata": {},
          "output_type": "execute_result"
        }
      ],
      "source": [
        "k.T.shape"
      ]
    },
    {
      "cell_type": "code",
      "execution_count": 20,
      "metadata": {
        "colab": {
          "base_uri": "https://localhost:8080/"
        },
        "id": "RkUrLeoE5Vb6",
        "outputId": "c20f9988-839a-406b-eebe-242f8da41047"
      },
      "outputs": [
        {
          "data": {
            "text/plain": [
              "torch.Size([3, 2])"
            ]
          },
          "execution_count": 20,
          "metadata": {},
          "output_type": "execute_result"
        }
      ],
      "source": [
        "y = torch.randn(2, 3)\n",
        "torch.transpose(y, 0, 1).shape"
      ]
    },
    {
      "cell_type": "code",
      "execution_count": 21,
      "metadata": {
        "colab": {
          "base_uri": "https://localhost:8080/"
        },
        "id": "gMaODlo-5Ygz",
        "outputId": "bc61ffd0-9db4-4d4a-dc01-7ee9a3456a3f"
      },
      "outputs": [
        {
          "data": {
            "text/plain": [
              "torch.Size([3, 2])"
            ]
          },
          "execution_count": 21,
          "metadata": {},
          "output_type": "execute_result"
        }
      ],
      "source": [
        "torch.transpose(y, 1, 0).shape"
      ]
    },
    {
      "cell_type": "code",
      "execution_count": 55,
      "metadata": {
        "colab": {
          "base_uri": "https://localhost:8080/"
        },
        "id": "D0PL2TSC4ZTc",
        "outputId": "403fdc2a-8523-4f50-c4a2-38fd3a7af462"
      },
      "outputs": [
        {
          "data": {
            "text/plain": [
              "tensor([[[[True, True, True, True],\n",
              "          [True, True, True, True],\n",
              "          [True, True, True, True],\n",
              "          ...,\n",
              "          [True, True, True, True],\n",
              "          [True, True, True, True],\n",
              "          [True, True, True, True]],\n",
              "\n",
              "         [[True, True, True, True],\n",
              "          [True, True, True, True],\n",
              "          [True, True, True, True],\n",
              "          ...,\n",
              "          [True, True, True, True],\n",
              "          [True, True, True, True],\n",
              "          [True, True, True, True]],\n",
              "\n",
              "         [[True, True, True, True],\n",
              "          [True, True, True, True],\n",
              "          [True, True, True, True],\n",
              "          ...,\n",
              "          [True, True, True, True],\n",
              "          [True, True, True, True],\n",
              "          [True, True, True, True]],\n",
              "\n",
              "         ...,\n",
              "\n",
              "         [[True, True, True, True],\n",
              "          [True, True, True, True],\n",
              "          [True, True, True, True],\n",
              "          ...,\n",
              "          [True, True, True, True],\n",
              "          [True, True, True, True],\n",
              "          [True, True, True, True]],\n",
              "\n",
              "         [[True, True, True, True],\n",
              "          [True, True, True, True],\n",
              "          [True, True, True, True],\n",
              "          ...,\n",
              "          [True, True, True, True],\n",
              "          [True, True, True, True],\n",
              "          [True, True, True, True]],\n",
              "\n",
              "         [[True, True, True, True],\n",
              "          [True, True, True, True],\n",
              "          [True, True, True, True],\n",
              "          ...,\n",
              "          [True, True, True, True],\n",
              "          [True, True, True, True],\n",
              "          [True, True, True, True]]]])"
            ]
          },
          "execution_count": 55,
          "metadata": {},
          "output_type": "execute_result"
        }
      ],
      "source": [
        "k.transpose(-1, -2) == k.transpose(-2, -1)"
      ]
    },
    {
      "cell_type": "code",
      "execution_count": 22,
      "metadata": {
        "colab": {
          "base_uri": "https://localhost:8080/"
        },
        "id": "daYW7MtI49t8",
        "outputId": "42d4c383-096d-49e3-a605-3d68d0274385"
      },
      "outputs": [
        {
          "name": "stdout",
          "output_type": "stream",
          "text": [
            "torch.Size([1, 8, 3, 64])\n",
            "torch.Size([1, 8, 64, 3])\n"
          ]
        }
      ],
      "source": [
        "print(k.shape)\n",
        "print(k.transpose(-1, -2).shape)"
      ]
    },
    {
      "cell_type": "code",
      "execution_count": 27,
      "metadata": {
        "colab": {
          "base_uri": "https://localhost:8080/"
        },
        "id": "b6tN6jvA0qur",
        "outputId": "84f0b8f6-0b97-431a-a0df-7c70ec973d41"
      },
      "outputs": [
        {
          "name": "stdout",
          "output_type": "stream",
          "text": [
            "torch.Size([1, 8, 3, 3])\n",
            "tensor([[[[-inf, -inf, -inf],\n",
            "          [-inf, -inf, -inf],\n",
            "          [-inf, -inf, -inf]],\n",
            "\n",
            "         [[-inf, -inf, -inf],\n",
            "          [-inf, -inf, -inf],\n",
            "          [-inf, -inf, -inf]],\n",
            "\n",
            "         [[-inf, -inf, -inf],\n",
            "          [-inf, -inf, -inf],\n",
            "          [-inf, -inf, -inf]],\n",
            "\n",
            "         [[-inf, -inf, -inf],\n",
            "          [-inf, -inf, -inf],\n",
            "          [-inf, -inf, -inf]],\n",
            "\n",
            "         [[-inf, -inf, -inf],\n",
            "          [-inf, -inf, -inf],\n",
            "          [-inf, -inf, -inf]],\n",
            "\n",
            "         [[-inf, -inf, -inf],\n",
            "          [-inf, -inf, -inf],\n",
            "          [-inf, -inf, -inf]],\n",
            "\n",
            "         [[-inf, -inf, -inf],\n",
            "          [-inf, -inf, -inf],\n",
            "          [-inf, -inf, -inf]],\n",
            "\n",
            "         [[-inf, -inf, -inf],\n",
            "          [-inf, -inf, -inf],\n",
            "          [-inf, -inf, -inf]]]])\n"
          ]
        }
      ],
      "source": [
        "print(scaled.shape)\n",
        "mask = torch.full(scaled.size() , float('-inf'))\n",
        "print(mask)"
      ]
    },
    {
      "cell_type": "code",
      "execution_count": 30,
      "metadata": {},
      "outputs": [
        {
          "data": {
            "text/plain": [
              "tensor([[0., -inf, -inf],\n",
              "        [0., 0., -inf],\n",
              "        [0., 0., 0.]])"
            ]
          },
          "execution_count": 30,
          "metadata": {},
          "output_type": "execute_result"
        }
      ],
      "source": [
        "mask = torch.triu(mask, diagonal=1)  #gets the upper triangular part of the mask and not retainig the diagonal\n",
        "mask[0][1] # mask for input to a single head in a single batch"
      ]
    },
    {
      "cell_type": "code",
      "execution_count": 31,
      "metadata": {
        "colab": {
          "base_uri": "https://localhost:8080/"
        },
        "id": "gZ8nYfdm1vis",
        "outputId": "7dc6378f-c50b-41d0-bece-ac2ff837f579"
      },
      "outputs": [
        {
          "data": {
            "text/plain": [
              "tensor([[-0.2388,    -inf,    -inf],\n",
              "        [ 0.1131,  0.0838,    -inf],\n",
              "        [ 0.0377,  0.1634, -0.5051]], grad_fn=<SelectBackward0>)"
            ]
          },
          "execution_count": 31,
          "metadata": {},
          "output_type": "execute_result"
        }
      ],
      "source": [
        "(scaled + mask)[0][0]"
      ]
    },
    {
      "cell_type": "code",
      "execution_count": 32,
      "metadata": {
        "id": "efXdwo2U3FyI"
      },
      "outputs": [],
      "source": [
        "scaled += mask"
      ]
    },
    {
      "cell_type": "code",
      "execution_count": 34,
      "metadata": {},
      "outputs": [
        {
          "data": {
            "text/plain": [
              "torch.Size([1, 8, 3, 3])"
            ]
          },
          "execution_count": 34,
          "metadata": {},
          "output_type": "execute_result"
        }
      ],
      "source": [
        "scaled.shape"
      ]
    },
    {
      "cell_type": "code",
      "execution_count": 35,
      "metadata": {
        "id": "w9aR2BNP3Gw_"
      },
      "outputs": [],
      "source": [
        "attention = F.softmax(scaled, dim=-1) #softmax over the last dimension ie. sequence_length dimension"
      ]
    },
    {
      "cell_type": "code",
      "execution_count": 36,
      "metadata": {
        "colab": {
          "base_uri": "https://localhost:8080/"
        },
        "id": "4kKHJqT83JSy",
        "outputId": "9cefdac2-080d-444c-8050-8643c2c0163c"
      },
      "outputs": [
        {
          "data": {
            "text/plain": [
              "torch.Size([1, 8, 3, 3])"
            ]
          },
          "execution_count": 36,
          "metadata": {},
          "output_type": "execute_result"
        }
      ],
      "source": [
        "attention.shape"
      ]
    },
    {
      "cell_type": "code",
      "execution_count": 37,
      "metadata": {
        "colab": {
          "base_uri": "https://localhost:8080/"
        },
        "id": "SImzTnAl3L21",
        "outputId": "368b64c2-d53b-4dba-de02-d6a363e9d9af"
      },
      "outputs": [
        {
          "data": {
            "text/plain": [
              "tensor([[1.0000, 0.0000, 0.0000],\n",
              "        [0.5073, 0.4927, 0.0000],\n",
              "        [0.3683, 0.4176, 0.2140]], grad_fn=<SelectBackward0>)"
            ]
          },
          "execution_count": 37,
          "metadata": {},
          "output_type": "execute_result"
        }
      ],
      "source": [
        "attention[0][0]"
      ]
    },
    {
      "cell_type": "code",
      "execution_count": 38,
      "metadata": {
        "colab": {
          "base_uri": "https://localhost:8080/"
        },
        "id": "lNB5BsNyRYZP",
        "outputId": "4eeb673c-3f44-4f74-c2da-53a0321980b8"
      },
      "outputs": [
        {
          "data": {
            "text/plain": [
              "torch.Size([1, 8, 3, 64])"
            ]
          },
          "execution_count": 38,
          "metadata": {},
          "output_type": "execute_result"
        }
      ],
      "source": [
        "values = torch.matmul(attention, v)\n",
        "values.shape"
      ]
    },
    {
      "cell_type": "markdown",
      "metadata": {
        "id": "hAp7B9gDRgvW"
      },
      "source": [
        "## Function"
      ]
    },
    {
      "cell_type": "code",
      "execution_count": 39,
      "metadata": {
        "id": "-C0rAup-rWNo"
      },
      "outputs": [],
      "source": [
        "import math\n",
        "# q : sequence_length, model_dim\n",
        "# k : sequence_length, model_dim\n",
        "# v : sequence_length, model_dim\n",
        "# mask : batch, head, sequence_length, sequence_length \n",
        "\n",
        "def scaled_dot_product(q, k, v, mask=None):\n",
        "    d_k = q.size()[-1] #model Dimension\n",
        "    scaled = torch.matmul(q, k.transpose(-1, -2)) / math.sqrt(d_k) # [batch_size, num_heads, sequence_length, sequence_length]\n",
        "    if mask is not None:\n",
        "        scaled += mask\n",
        "    attention = F.softmax(scaled, dim=-1)\n",
        "    values = torch.matmul(attention, v)\n",
        "    return values, attention"
      ]
    },
    {
      "cell_type": "code",
      "execution_count": 40,
      "metadata": {
        "id": "Plrxn94Irs2K"
      },
      "outputs": [],
      "source": [
        "values, attention = scaled_dot_product(q, k, v, mask=mask)"
      ]
    },
    {
      "cell_type": "code",
      "execution_count": 41,
      "metadata": {
        "colab": {
          "base_uri": "https://localhost:8080/"
        },
        "id": "z4agepAfr8_u",
        "outputId": "30ad86c7-bfd4-4d61-d645-5a1c00d48779"
      },
      "outputs": [
        {
          "data": {
            "text/plain": [
              "torch.Size([1, 8, 3, 3])"
            ]
          },
          "execution_count": 41,
          "metadata": {},
          "output_type": "execute_result"
        }
      ],
      "source": [
        "attention.shape"
      ]
    },
    {
      "cell_type": "code",
      "execution_count": 42,
      "metadata": {
        "colab": {
          "base_uri": "https://localhost:8080/"
        },
        "id": "Ts-vwtNXrjFP",
        "outputId": "b493b5fc-b715-48fb-80d7-61b1a4dd2599"
      },
      "outputs": [
        {
          "data": {
            "text/plain": [
              "tensor([[1.0000, 0.0000, 0.0000],\n",
              "        [0.5073, 0.4927, 0.0000],\n",
              "        [0.3683, 0.4176, 0.2140]], grad_fn=<SelectBackward0>)"
            ]
          },
          "execution_count": 42,
          "metadata": {},
          "output_type": "execute_result"
        }
      ],
      "source": [
        "attention[0][0]"
      ]
    },
    {
      "cell_type": "code",
      "execution_count": 43,
      "metadata": {
        "colab": {
          "base_uri": "https://localhost:8080/"
        },
        "id": "yzMrh7Q8sKW5",
        "outputId": "a43e6c78-c9bd-47e2-eafe-1b91e4453362"
      },
      "outputs": [
        {
          "data": {
            "text/plain": [
              "torch.Size([1, 8, 3, 64])"
            ]
          },
          "execution_count": 43,
          "metadata": {},
          "output_type": "execute_result"
        }
      ],
      "source": [
        "values.size()"
      ]
    },
    {
      "cell_type": "code",
      "execution_count": 44,
      "metadata": {
        "colab": {
          "base_uri": "https://localhost:8080/"
        },
        "id": "VqkGc4zdsOQ3",
        "outputId": "6dd47f8d-6a6c-4473-d810-9441155bd65b"
      },
      "outputs": [
        {
          "data": {
            "text/plain": [
              "torch.Size([1, 3, 512])"
            ]
          },
          "execution_count": 44,
          "metadata": {},
          "output_type": "execute_result"
        }
      ],
      "source": [
        "values = values.reshape(batch_size, sequence_length, num_heads * head_dim)\n",
        "values.size()"
      ]
    },
    {
      "cell_type": "code",
      "execution_count": 45,
      "metadata": {
        "id": "b7DH6VKMtMTu"
      },
      "outputs": [],
      "source": [
        "linear_layer = nn.Linear(d_model, d_model)"
      ]
    },
    {
      "cell_type": "code",
      "execution_count": 46,
      "metadata": {
        "id": "n6zt1i51thgO"
      },
      "outputs": [],
      "source": [
        "out = linear_layer(values)"
      ]
    },
    {
      "cell_type": "code",
      "execution_count": 47,
      "metadata": {
        "colab": {
          "base_uri": "https://localhost:8080/"
        },
        "id": "38nDP4hGtjol",
        "outputId": "e1f02961-d7d2-4c2b-d496-9325258cdbc3"
      },
      "outputs": [
        {
          "data": {
            "text/plain": [
              "torch.Size([1, 3, 512])"
            ]
          },
          "execution_count": 47,
          "metadata": {},
          "output_type": "execute_result"
        }
      ],
      "source": [
        "out.shape"
      ]
    },
    {
      "cell_type": "code",
      "execution_count": 48,
      "metadata": {
        "colab": {
          "base_uri": "https://localhost:8080/"
        },
        "id": "J2NIAo2X6gIZ",
        "outputId": "6636d212-208d-4138-be57-81965c3a2d39"
      },
      "outputs": [
        {
          "data": {
            "text/plain": [
              "tensor([[[-0.4107, -0.1897,  0.1776,  ..., -0.3303, -0.1674, -0.1057],\n",
              "         [ 0.2663,  0.0942, -0.2943,  ..., -0.3131,  0.4240,  0.0106],\n",
              "         [-0.1232, -0.3140,  0.1089,  ..., -0.1343,  0.0988,  0.2052]]],\n",
              "       grad_fn=<ViewBackward0>)"
            ]
          },
          "execution_count": 48,
          "metadata": {},
          "output_type": "execute_result"
        }
      ],
      "source": [
        "out"
      ]
    },
    {
      "cell_type": "markdown",
      "metadata": {
        "id": "OmRfc7fhtc1U"
      },
      "source": [
        "## Class"
      ]
    },
    {
      "cell_type": "code",
      "execution_count": 49,
      "metadata": {
        "id": "NSIKbDEXtcOv"
      },
      "outputs": [],
      "source": [
        "import torch\n",
        "import torch.nn as nn\n",
        "import math\n",
        "\n",
        "def scaled_dot_product(q, k, v, mask=None):\n",
        "    d_k = q.size()[-1]\n",
        "    scaled = torch.matmul(q, k.transpose(-1, -2)) / math.sqrt(d_k)\n",
        "    if mask is not None:\n",
        "        scaled += mask\n",
        "    attention = F.softmax(scaled, dim=-1)\n",
        "    values = torch.matmul(attention, v)\n",
        "    return values, attention\n",
        "\n",
        "class MultiheadAttention(nn.Module):\n",
        "\n",
        "    def __init__(self, input_dim, d_model, num_heads):\n",
        "        super().__init__()\n",
        "        self.input_dim = input_dim\n",
        "        self.d_model = d_model\n",
        "        self.num_heads = num_heads\n",
        "        self.head_dim = d_model // num_heads\n",
        "        self.qkv_layer = nn.Linear(input_dim , 3 * d_model)\n",
        "        self.linear_layer = nn.Linear(d_model, d_model)\n",
        "    \n",
        "    def forward(self, x, mask=None):\n",
        "        batch_size, sequence_length, input_dim = x.size()\n",
        "        print(f\"x.size(): {x.size()}\")\n",
        "        qkv = self.qkv_layer(x)\n",
        "        print(f\"qkv.size(): {qkv.size()}\")\n",
        "        qkv = qkv.reshape(batch_size, sequence_length, self.num_heads, 3 * self.head_dim)\n",
        "        print(f\"qkv.size(): {qkv.size()}\")\n",
        "        qkv = qkv.permute(0, 2, 1, 3)\n",
        "        print(f\"qkv.size(): {qkv.size()}\")\n",
        "        q, k, v = qkv.chunk(3, dim=-1)\n",
        "        print(f\"q size: {q.size()}, k size: {k.size()}, v size: {v.size()}, \")\n",
        "        values, attention = scaled_dot_product(q, k, v, mask)\n",
        "        print(f\"values.size(): {values.size()}, attention.size:{ attention.size()} \")\n",
        "        values = values.reshape(batch_size, sequence_length, self.num_heads * self.head_dim)\n",
        "        print(f\"values.size(): {values.size()}\")\n",
        "        out = self.linear_layer(values)\n",
        "        print(f\"out.size(): {out.size()}\")\n",
        "        return out\n"
      ]
    },
    {
      "cell_type": "markdown",
      "metadata": {
        "id": "1Ux6hMEjyWEU"
      },
      "source": [
        "## Input"
      ]
    },
    {
      "cell_type": "code",
      "execution_count": 50,
      "metadata": {
        "colab": {
          "base_uri": "https://localhost:8080/"
        },
        "id": "PiB-SkfaxCTl",
        "outputId": "04f0a850-3a4d-427d-9345-f17082789c25"
      },
      "outputs": [
        {
          "name": "stdout",
          "output_type": "stream",
          "text": [
            "x.size(): torch.Size([30, 5, 1024])\n",
            "qkv.size(): torch.Size([30, 5, 1536])\n",
            "qkv.size(): torch.Size([30, 5, 8, 192])\n",
            "qkv.size(): torch.Size([30, 8, 5, 192])\n",
            "q size: torch.Size([30, 8, 5, 64]), k size: torch.Size([30, 8, 5, 64]), v size: torch.Size([30, 8, 5, 64]), \n",
            "values.size(): torch.Size([30, 8, 5, 64]), attention.size:torch.Size([30, 8, 5, 5]) \n",
            "values.size(): torch.Size([30, 5, 512])\n",
            "out.size(): torch.Size([30, 5, 512])\n"
          ]
        }
      ],
      "source": [
        "input_dim = 1024\n",
        "d_model = 512\n",
        "num_heads = 8\n",
        "\n",
        "batch_size = 30\n",
        "sequence_length = 5\n",
        "x = torch.randn( (batch_size, sequence_length, input_dim) )\n",
        "\n",
        "model = MultiheadAttention(input_dim, d_model, num_heads)\n",
        "out = model.forward(x)"
      ]
    },
    {
      "cell_type": "code",
      "execution_count": null,
      "metadata": {
        "id": "84AaNS24xuUV"
      },
      "outputs": [],
      "source": []
    }
  ],
  "metadata": {
    "colab": {
      "provenance": []
    },
    "kernelspec": {
      "display_name": "DLNLP",
      "language": "python",
      "name": "dlnlp"
    },
    "language_info": {
      "codemirror_mode": {
        "name": "ipython",
        "version": 3
      },
      "file_extension": ".py",
      "mimetype": "text/x-python",
      "name": "python",
      "nbconvert_exporter": "python",
      "pygments_lexer": "ipython3",
      "version": "3.11.4"
    }
  },
  "nbformat": 4,
  "nbformat_minor": 0
}
